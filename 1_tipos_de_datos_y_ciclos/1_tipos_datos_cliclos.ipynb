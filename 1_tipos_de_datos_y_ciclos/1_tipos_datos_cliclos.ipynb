{
 "cells": [
  {
   "cell_type": "markdown",
   "metadata": {},
   "source": [
    "# Tipos de datos\n",
    "\n",
    "Las variables permiten almacenar datos del programa. Estas serán de un tipo u otro en función de la información que se guarde en ellas."
   ]
  },
  {
   "cell_type": "code",
   "execution_count": 6,
   "metadata": {},
   "outputs": [],
   "source": [
    "nombre = 'Mario' # cadena de texto\n",
    "edad = 25 # número entero"
   ]
  },
  {
   "cell_type": "markdown",
   "metadata": {},
   "source": [
    "## Cadenas de texto (string)\n",
    "\n",
    "Las cadenas de texto o strings se definen mediante comilla simple (' ') o doble comilla (\" \"):"
   ]
  },
  {
   "cell_type": "code",
   "execution_count": 11,
   "metadata": {},
   "outputs": [
    {
     "name": "stdout",
     "output_type": "stream",
     "text": [
      "Mario\n",
      "Mario\n",
      " esto es una\n",
      "        frase muy larga de más de\n",
      "        una línea ...\n"
     ]
    }
   ],
   "source": [
    "mi_nombre = 'Mario'\n",
    "print(mi_nombre)\n",
    "mi_nombre = \"Mario\"\n",
    "print(mi_nombre)\n",
    "\n",
    "## Para definir strings multi-línea se utiliza la triples comillas (\"\"\"):\n",
    "frase = \"\"\" esto es una\n",
    "        frase muy larga de más de\n",
    "        una línea ...\"\"\"\n",
    "print(frase)\n"
   ]
  },
  {
   "cell_type": "markdown",
   "metadata": {},
   "source": [
    "Los métodos más utilizados con strings son los siguientes:\n",
    "\n",
    "Método | Acción\n",
    "-|-\n",
    "string.capitalize()|Convierte en mayuscula su primera letra.\n",
    "string.lower()|convierte todos los caracteres alfabéticos en minúscula.\n",
    "string.upper()|convierte todos los caracteres alfabéticos en mayúsculas.\n",
    "string.count('Mario')|permite contar las veces que otra cadena se encuentra dentro de la primera.\n",
    "string.isalnum()|devuelve True si la cadena esta formada únicamente por caracteres alfanuméricos, False de lo contrario.\n",
    "string.isalpha()|devuelve True si todos los caracteres son alfabéticos, False de lo contrario.\n",
    "string.zfill(5)|rellena la cadena con ceros a la izquierda hasta llegar a la longitud pasada como parámetro.\n",
    "string.split(\",\")|divide una cadena en subcadenas y las devuelve almacenadas en una lista."
   ]
  },
  {
   "cell_type": "markdown",
   "metadata": {},
   "source": [
    "## f-strings\n",
    "\n",
    "\n",
    "Las f-strings permiten introducir cualquier variable o expresión dentro de un string incluyendo la variable entre llaves { y }. \n",
    "Para crear f-strings, solo tienes que agregar la letra f o F mayúscula antes de las comillas:\n",
    "\n",
    "> Por ejemplo, \"esto\" es una cadena de texto normal y f\"esto\" es una f-string."
   ]
  },
  {
   "cell_type": "code",
   "execution_count": 15,
   "metadata": {},
   "outputs": [
    {
     "name": "stdout",
     "output_type": "stream",
     "text": [
      "Mi nombre es Mario tengo 24.\n",
      "El producto de 83 y 9 es 747.\n"
     ]
    }
   ],
   "source": [
    "nombre = \"Mario\"\n",
    "edad = \"24\"\n",
    "print(f\"Mi nombre es {nombre} tengo {edad}.\")\n",
    "\n",
    "# ejemplo\n",
    "num1 = 83\n",
    "num2 = 9\n",
    "print(f\"El producto de {num1} y {num2} es {num1 * num2}.\")"
   ]
  },
  {
   "cell_type": "markdown",
   "metadata": {},
   "source": [
    "## Conversión de tipos\n",
    "\n",
    "A la hora de concatenar un string con otras variables como integer o float puede haber problemas:"
   ]
  },
  {
   "cell_type": "code",
   "execution_count": 16,
   "metadata": {},
   "outputs": [
    {
     "ename": "TypeError",
     "evalue": "can only concatenate str (not \"int\") to str",
     "output_type": "error",
     "traceback": [
      "\u001b[1;31m---------------------------------------------------------------------------\u001b[0m",
      "\u001b[1;31mTypeError\u001b[0m                                 Traceback (most recent call last)",
      "Cell \u001b[1;32mIn[16], line 3\u001b[0m\n\u001b[0;32m      1\u001b[0m edad \u001b[38;5;241m=\u001b[39m \u001b[38;5;241m25\u001b[39m\n\u001b[0;32m      2\u001b[0m nota_media \u001b[38;5;241m=\u001b[39m \u001b[38;5;241m7.3\u001b[39m\n\u001b[1;32m----> 3\u001b[0m \u001b[38;5;28mprint\u001b[39m(\u001b[38;5;124;43m\"\u001b[39;49m\u001b[38;5;124;43mTengo \u001b[39;49m\u001b[38;5;124;43m\"\u001b[39;49m\u001b[43m \u001b[49m\u001b[38;5;241;43m+\u001b[39;49m\u001b[43m \u001b[49m\u001b[43medad\u001b[49m \u001b[38;5;241m+\u001b[39m \u001b[38;5;124m\"\u001b[39m\u001b[38;5;124m años y mi nota media es \u001b[39m\u001b[38;5;124m\"\u001b[39m \u001b[38;5;241m+\u001b[39m nota_media \u001b[38;5;241m+\u001b[39m \u001b[38;5;124m\"\u001b[39m\u001b[38;5;124m.\u001b[39m\u001b[38;5;124m\"\u001b[39m)\n",
      "\u001b[1;31mTypeError\u001b[0m: can only concatenate str (not \"int\") to str"
     ]
    }
   ],
   "source": [
    "edad = 25\n",
    "nota_media = 7.3\n",
    "print(\"Tengo \" + edad + \" años y mi nota media es \" + nota_media + \".\")"
   ]
  },
  {
   "cell_type": "code",
   "execution_count": 17,
   "metadata": {},
   "outputs": [
    {
     "name": "stdout",
     "output_type": "stream",
     "text": [
      "Tengo 25 años y mi nota media es 7.3.\n"
     ]
    }
   ],
   "source": [
    "edad = 25\n",
    "nota_media = 7.3\n",
    "print(\"Tengo \" + str(edad) + \" años y mi nota media es \" + str(nota_media) + \".\")"
   ]
  },
  {
   "cell_type": "markdown",
   "metadata": {},
   "source": [
    "## Listas\n",
    "\n",
    "Las listas permiten guardar más de un elemento dentro de una variable, y además hacerlo en un orden concreto. Pueden contener un número ilimitado de elementos de cualquier tipo:"
   ]
  },
  {
   "cell_type": "code",
   "execution_count": 20,
   "metadata": {},
   "outputs": [
    {
     "name": "stdout",
     "output_type": "stream",
     "text": [
      "Mario\n",
      "Caleb\n",
      "Guilermo\n",
      "Alejandra\n"
     ]
    }
   ],
   "source": [
    " # Lista vacía\n",
    "lista_vacia = []\n",
    "\n",
    "# Lista con valores\n",
    "alumnos = [\"Mario\", \"Caleb\", \"Guilermo\", \"Alejandra\"]\n",
    "\n",
    "# Acceder a elementos\n",
    "print(alumnos[0])\n",
    "print(alumnos[1])\n",
    "print(alumnos[2])\n",
    "print(alumnos[-1])"
   ]
  },
  {
   "cell_type": "markdown",
   "metadata": {},
   "source": [
    "Los métodos más utilizados con las listas son los siguientes:\n",
    "\n",
    "Método | Acción\n",
    "-|-\n",
    "personas.append(\"Mario\")|Inserta \"Mario\" al final de la lista\n",
    "personas.insert(0,\"Mario\")|Inserta \"Mario\" en la posición 0\n",
    "personas.remove(\"Mario\")|Elimina la primera aparición de \"Mario\" de la lista\n",
    "personas.pop()|Elimina el último elemento de la lista\n",
    "personas.pop(3)|Elimina el cuarto elemento de la lista\n",
    "personas.clear()|Elimina todos los elementos de la lista\n",
    "personas.index(\"Mario\")|Devuelve el índice de la primera aparición de \"Mario\"\n",
    "personas.sort()|Ordena la lista (los elementos deben ser comparables)\n",
    "sorted(personas)|Devuelve una copia de la lista 'personas' ordenada (no ordena la pasada como parámetro)\n",
    "personas.reverse()|Ordena la lista en orden inverso\n",
    "personas.copy()|Devuelve una copia de la lista\n",
    "personas.extend(otra_lista)|Fusiona las dos listas"
   ]
  },
  {
   "cell_type": "markdown",
   "metadata": {},
   "source": [
    "## Diccionarios\n",
    "\n",
    "Un diccionario es un conjunto de parejas clave- valor (key-value). Es decir, se accede a cada elemento a partir de su clave. Se definen de la siguiente manera:"
   ]
  },
  {
   "cell_type": "code",
   "execution_count": 28,
   "metadata": {},
   "outputs": [
    {
     "name": "stdout",
     "output_type": "stream",
     "text": [
      "Mario\n",
      "Caleb\n",
      "Guillermo\n",
      "25\n",
      "24\n",
      "26\n"
     ]
    }
   ],
   "source": [
    "my_dict = {\n",
    "    'Mario': 25,\n",
    "    'Caleb': 24,\n",
    "    'Guillermo': 26,\n",
    "}\n",
    "\n",
    "# Iterar por hash o llaves\n",
    "for llave in my_dict.keys():\n",
    "    print(llave)\n",
    "\n",
    "# Iterar por valor\n",
    "for valor in my_dict.values():\n",
    "    print(valor)"
   ]
  },
  {
   "cell_type": "markdown",
   "metadata": {},
   "source": [
    "Las claves tienen que ser únicas y estar formadas por un string o un número. Para acceder al valor de una clave exiten dos maneras distintas:"
   ]
  },
  {
   "cell_type": "code",
   "execution_count": 29,
   "metadata": {},
   "outputs": [
    {
     "name": "stdout",
     "output_type": "stream",
     "text": [
      "25\n",
      "25\n",
      "{'Mario': 25, 'Caleb': 35, 'Guillermo': 26}\n",
      "{'Mario': 25, 'Caleb': 35, 'Guillermo': '55'}\n"
     ]
    }
   ],
   "source": [
    "# Acceder al valor de una clave\n",
    "mario = my_dict[\"Mario\"] # devuelve el valor de 'edad'\n",
    "mario_get = my_dict.get(\"Mario\") # devuelve el valor de 'nota_media'\n",
    "print(mario)\n",
    "print(mario_get)\n",
    "\n",
    "# Insertar o actualizar un valor:\n",
    "my_dict[\"Caleb\"] = 35 # actualiza el valor de 'edad'\n",
    "print(my_dict)\n",
    "\n",
    "# insertar una pareja clave - valor o actualizar si ya existe:\n",
    "my_dict.update({'Guillermo':'55'})\n",
    "print(my_dict)\n"
   ]
  },
  {
   "cell_type": "markdown",
   "metadata": {},
   "source": [
    "Algunos de los métodos más utilizados son los siguientes:\n",
    "\n",
    "Método|Acción\n",
    "-|-\n",
    "diccionario.keys()|Devuelve todas las claves del diccionario\n",
    "diccionario.values()|Devuelve todos los valores del diccionario\n",
    "diccionario.pop(clave[,<default>])|Elimina la clave del diccionario y devuelve su valor asociado. Si no la encuentra y se indica un valor por defecto, devuelve el valor por defecto indicado.\n",
    "diccionario.clear()|Vacía el diccionario\n",
    "clave in diccionario|Devuelve True si el diccionario contiene la clave o False en caso contrario.\n",
    "valor in diccionario.values()|Devuelve True si el diccionario contiene el valor o False en caso contrario."
   ]
  },
  {
   "cell_type": "markdown",
   "metadata": {},
   "source": [
    "# Ciclos en Python\n",
    "\n",
    "Los ciclos ejecuten un mismo bloque de código dos o más veces mientras se cumple la condición declarada. Cuando la condición llega a ser falsa, el programa sale del bucle y continúa con su ejecución de forma secuencial.\n",
    "\n",
    "Python cuenta con dos tipos de bucles fundamentales:\n",
    "\n",
    "* **While**, los que tienen un número indefinido de iteraciones.\n",
    "* **For**, los que tienen un número definido de iteraciones."
   ]
  },
  {
   "cell_type": "code",
   "execution_count": 36,
   "metadata": {},
   "outputs": [
    {
     "name": "stdout",
     "output_type": "stream",
     "text": [
      "4\n",
      "¡Pum!\n",
      "3\n",
      "¡Pum!\n",
      "2\n",
      "¡Pum!\n",
      "1\n",
      "¡Pum!\n",
      "0\n",
      "¡Pum!\n",
      "\n",
      "0\n",
      "1\n",
      "2\n",
      "3\n",
      "4\n",
      "Fin del bucle\n",
      "Este idioma está en la lista: Árabe\n",
      "Este idioma está en la lista: Inglés\n",
      "Este idioma está en la lista: Francés\n",
      "Este idioma está en la lista: Español\n"
     ]
    }
   ],
   "source": [
    "## while\n",
    "x = 5\n",
    "while x > 0:\n",
    "    x -= 1\n",
    "    print(x)\n",
    "    print('¡Pum!')\n",
    "\n",
    "## for\n",
    "print('')\n",
    "for x in range(5):\n",
    "    print(x)\n",
    "else:\n",
    "    print('Fin del bucle')\n",
    "\t\n",
    "idiomas = ['Árabe', 'Inglés', 'Francés', 'Español']\n",
    "índice = 0\n",
    "for idioma in idiomas:\n",
    "    print ('Este idioma está en la lista: ' + idiomas[índice])\n",
    "    índice += 1"
   ]
  }
 ],
 "metadata": {
  "kernelspec": {
   "display_name": "Python 3",
   "language": "python",
   "name": "python3"
  },
  "language_info": {
   "codemirror_mode": {
    "name": "ipython",
    "version": 3
   },
   "file_extension": ".py",
   "mimetype": "text/x-python",
   "name": "python",
   "nbconvert_exporter": "python",
   "pygments_lexer": "ipython3",
   "version": "3.12.6"
  }
 },
 "nbformat": 4,
 "nbformat_minor": 2
}
