{
 "cells": [
  {
   "cell_type": "markdown",
   "metadata": {},
   "source": [
    "# Lectura de datos\n",
    "\n",
    "Poder crear un DataFrame o una Serie manualmente es útil. Pero, la mayoría de las veces, en realidad no estaremos creando nuestros propios datos manualmente. En cambio, estaremos trabajando con datos que ya existen.\n",
    "\n",
    "Los datos pueden almacenarse en cualquiera de una serie de formas y formatos diferentes. Por mucho, el más básico de estos es el humilde archivo CSV. Cuando abres un archivo CSV, obtienes algo que se ve así:\n",
    "\n",
    "Producto A,Producto B,Producto C,\n",
    "<br>\n",
    "30,21,9,\n",
    "<br>\n",
    "35,34,1,\n",
    "<br>\n",
    "41,11,11\n",
    "\n",
    "Usaremos la función pd.read_csv() para leer los datos en un DataFrame. Esto se hace de la siguiente manera:"
   ]
  },
  {
   "cell_type": "code",
   "execution_count": 23,
   "metadata": {},
   "outputs": [
    {
     "name": "stdout",
     "output_type": "stream",
     "text": [
      "                                                 App        Category  Rating  \\\n",
      "0     Photo Editor & Candy Camera & Grid & ScrapBook  ART_AND_DESIGN     4.1   \n",
      "1                                Coloring book moana  ART_AND_DESIGN     3.9   \n",
      "2  U Launcher Lite – FREE Live Cool Themes, Hide ...  ART_AND_DESIGN     4.7   \n",
      "3                              Sketch - Draw & Paint  ART_AND_DESIGN     4.5   \n",
      "4              Pixel Draw - Number Art Coloring Book  ART_AND_DESIGN     4.3   \n",
      "5                         Paper flowers instructions  ART_AND_DESIGN     4.4   \n",
      "6            Smoke Effect Photo Maker - Smoke Editor  ART_AND_DESIGN     3.8   \n",
      "7                                   Infinite Painter  ART_AND_DESIGN     4.1   \n",
      "8                               Garden Coloring Book  ART_AND_DESIGN     4.4   \n",
      "9                      Kids Paint Free - Drawing Fun  ART_AND_DESIGN     4.7   \n",
      "\n",
      "  Reviews  Size     Installs  Type Price Content Rating  \\\n",
      "0     159   19M      10,000+  Free     0       Everyone   \n",
      "1     967   14M     500,000+  Free     0       Everyone   \n",
      "2   87510  8.7M   5,000,000+  Free     0       Everyone   \n",
      "3  215644   25M  50,000,000+  Free     0           Teen   \n",
      "4     967  2.8M     100,000+  Free     0       Everyone   \n",
      "5     167  5.6M      50,000+  Free     0       Everyone   \n",
      "6     178   19M      50,000+  Free     0       Everyone   \n",
      "7   36815   29M   1,000,000+  Free     0       Everyone   \n",
      "8   13791   33M   1,000,000+  Free     0       Everyone   \n",
      "9     121  3.1M      10,000+  Free     0       Everyone   \n",
      "\n",
      "                      Genres        Last Updated         Current Ver  \\\n",
      "0               Art & Design     January 7, 2018               1.0.0   \n",
      "1  Art & Design;Pretend Play    January 15, 2018               2.0.0   \n",
      "2               Art & Design      August 1, 2018               1.2.4   \n",
      "3               Art & Design        June 8, 2018  Varies with device   \n",
      "4    Art & Design;Creativity       June 20, 2018                 1.1   \n",
      "5               Art & Design      March 26, 2017                 1.0   \n",
      "6               Art & Design      April 26, 2018                 1.1   \n",
      "7               Art & Design       June 14, 2018            6.1.61.1   \n",
      "8               Art & Design  September 20, 2017               2.9.2   \n",
      "9    Art & Design;Creativity        July 3, 2018                 2.8   \n",
      "\n",
      "    Android Ver  \n",
      "0  4.0.3 and up  \n",
      "1  4.0.3 and up  \n",
      "2  4.0.3 and up  \n",
      "3    4.2 and up  \n",
      "4    4.4 and up  \n",
      "5    2.3 and up  \n",
      "6  4.0.3 and up  \n",
      "7    4.2 and up  \n",
      "8    3.0 and up  \n",
      "9  4.0.3 and up  \n"
     ]
    }
   ],
   "source": [
    "import pandas as pd\n",
    "\n",
    "df = pd.read_csv(r\"..\\2_pandas\\data\\googleplaystore.csv\")\n",
    "print(df.head(10))"
   ]
  },
  {
   "cell_type": "code",
   "execution_count": 20,
   "metadata": {},
   "outputs": [
    {
     "name": "stdout",
     "output_type": "stream",
     "text": [
      "App                object\n",
      "Category           object\n",
      "Rating            float64\n",
      "Reviews            object\n",
      "Size               object\n",
      "Installs           object\n",
      "Type               object\n",
      "Price              object\n",
      "Content Rating     object\n",
      "Genres             object\n",
      "Last Updated       object\n",
      "Current Ver        object\n",
      "Android Ver        object\n",
      "dtype: object\n",
      "Index(['App', 'Category', 'Rating', 'Reviews', 'Size', 'Installs', 'Type',\n",
      "       'Price', 'Content Rating', 'Genres', 'Last Updated', 'Current Ver',\n",
      "       'Android Ver'],\n",
      "      dtype='object')\n"
     ]
    }
   ],
   "source": [
    "print(df.dtypes)\n",
    "print(df.columns)"
   ]
  },
  {
   "cell_type": "markdown",
   "metadata": {},
   "source": [
    "Si recordamos podemos usar el parametro **dtype** para decidir como leer los datos"
   ]
  },
  {
   "cell_type": "code",
   "execution_count": 27,
   "metadata": {},
   "outputs": [
    {
     "name": "stdout",
     "output_type": "stream",
     "text": [
      "App               object\n",
      "Category          object\n",
      "Rating            object\n",
      "Reviews           object\n",
      "Size              object\n",
      "Installs          object\n",
      "Type              object\n",
      "Price             object\n",
      "Content Rating    object\n",
      "Genres            object\n",
      "Last Updated      object\n",
      "Current Ver       object\n",
      "Android Ver       object\n",
      "dtype: object\n",
      "App               object\n",
      "Category          object\n",
      "Rating            object\n",
      "Reviews           object\n",
      "Size              object\n",
      "Installs          object\n",
      "Type              object\n",
      "Price             object\n",
      "Content Rating    object\n",
      "Genres            object\n",
      "Last Updated      object\n",
      "Current Ver       object\n",
      "Android Ver       object\n",
      "dtype: object\n"
     ]
    }
   ],
   "source": [
    "df = pd.read_csv(r\"..\\2_pandas\\data\\googleplaystore.csv\", dtype=str)\n",
    "print(df.dtypes)\n",
    "\n",
    "### tambien se puede especificar una columna:\n",
    "df = pd.read_csv(r\"..\\2_pandas\\data\\googleplaystore.csv\", dtype={'Rating':str})\n",
    "print(df.dtypes)"
   ]
  },
  {
   "cell_type": "markdown",
   "metadata": {},
   "source": [
    "## lectura sql\n",
    "\n",
    "Con pandas tambien se puede realizar una consulta sql y que como resultado te traiga los datos a un df.\n",
    "\n",
    "Un ejemplo de como leer datos de sqlite3, es el siguiente:"
   ]
  },
  {
   "cell_type": "code",
   "execution_count": null,
   "metadata": {},
   "outputs": [],
   "source": [
    "import sqlite3\n",
    "\n",
    "conn = sqlite3.connect(\"database.sqlite\")\n",
    "\n",
    "query = '''\n",
    "SELECT *\n",
    "FROM my_tabla\n",
    "'''\n",
    "df = pd.read_sql_query(query, con=conn)\n",
    "\n",
    "conn.close()"
   ]
  },
  {
   "cell_type": "markdown",
   "metadata": {},
   "source": [
    "> Nota: No siempre se pueden leer datos de una base de datos con esa connecion, dependera del tipo de base que sea, el anterior es de sqlite, aqui otro usando postgresql:"
   ]
  },
  {
   "cell_type": "code",
   "execution_count": null,
   "metadata": {},
   "outputs": [],
   "source": [
    "import psycopg2\n",
    "\n",
    "conn = psycopg2.connect(host='localhost', database='my_data', port='5566', user='postgres', password='postgres')\n",
    "\n",
    "query = '''\n",
    "SELECT *\n",
    "FROM my_tabla\n",
    "'''\n",
    "df = pd.read_sql_query(query, con=conn)\n",
    "\n",
    "conn.close()"
   ]
  }
 ],
 "metadata": {
  "kernelspec": {
   "display_name": "Python 3",
   "language": "python",
   "name": "python3"
  },
  "language_info": {
   "codemirror_mode": {
    "name": "ipython",
    "version": 3
   },
   "file_extension": ".py",
   "mimetype": "text/x-python",
   "name": "python",
   "nbconvert_exporter": "python",
   "pygments_lexer": "ipython3",
   "version": "3.12.6"
  }
 },
 "nbformat": 4,
 "nbformat_minor": 2
}
