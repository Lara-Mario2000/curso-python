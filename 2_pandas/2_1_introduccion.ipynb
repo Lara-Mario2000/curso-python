{
 "cells": [
  {
   "cell_type": "markdown",
   "metadata": {},
   "source": [
    "# Pandas\n",
    "\n",
    "Pandas es una herramienta de análisis y manipulación de datos de código abierto rápida, potente, flexible y fácil de usar, construida sobre Python.\n",
    "\n",
    "Ventajas:\n",
    "* Reduce lineas de código\n",
    "* Diseñada especialmente para análisis\n",
    "* API fácil y concisa\n",
    "* Multiples funciones\n",
    "\n",
    "Desventajas:\n",
    "* Compatibilidad con matrices 3 (numpy)\n",
    "* Curva de aprendizaje lenta"
   ]
  },
  {
   "cell_type": "code",
   "execution_count": 2,
   "metadata": {},
   "outputs": [],
   "source": [
    "import pandas as pd"
   ]
  },
  {
   "cell_type": "markdown",
   "metadata": {},
   "source": [
    "## DataFrames\n",
    "\n",
    "Los DataFrames son el objeto más usado de Pandas, estas son estructuras bidimensionales con columnas de datos de cualquier tipo. Se pueden asimilar a una hoja de cálculo, o una tabla de una base de datos, o, simplemente, un diccionario de objetos tipo Series. Los DataFrames etiquetan los datos con el índice y con los identificadores de cada columna.\n",
    "\n",
    "Los DataFrames se pueden construir de muchas maneras, p. ej. a partir de un diccionario de Series (con NaN para las claves sin valor en la serie):"
   ]
  },
  {
   "cell_type": "code",
   "execution_count": 9,
   "metadata": {},
   "outputs": [
    {
     "name": "stdout",
     "output_type": "stream",
     "text": [
      "      nombre  edad  estatura\n",
      "0      Mario    24      1.68\n",
      "1      Caleb    25      1.69\n",
      "2  Guillermo    23      1.80\n",
      "   col1  col2\n",
      "0     1     3\n",
      "1     3     5\n",
      "      col1  col2\n",
      "row1     1     3\n",
      "row2     3     5\n",
      "      col1  col2\n",
      "row1   1.0   3.0\n",
      "row2   2.0   NaN\n",
      "row3   NaN   5.0\n"
     ]
    }
   ],
   "source": [
    "import pandas as pd\n",
    "\n",
    "# Mi manera favoita\n",
    "data=[\n",
    "    ['Mario',24,1.68],\n",
    "    ['Caleb',25,1.69],\n",
    "    ['Guillermo',23,1.80],\n",
    "]\n",
    "\n",
    "columns = ['nombre','edad','estatura']\n",
    "\n",
    "df = pd.DataFrame(data=data, columns=columns)\n",
    "print(df)\n",
    "\n",
    "### otros ejemplos\n",
    "df2 = pd.DataFrame({'col1': [1, 3], 'col2': [3, 5]})\n",
    "print(df2)\n",
    "\n",
    "df3 = pd.DataFrame({'col1': [1, 3], 'col2': [3, 5]}, index=['row1', 'row2'])\n",
    "print(df3)\n",
    "\n",
    "df4 = pd.DataFrame({'col1': {'row1': 1, 'row2': 2}, 'col2': {'row1': 3, 'row3': 5}})\n",
    "print(df4)"
   ]
  },
  {
   "cell_type": "markdown",
   "metadata": {},
   "source": [
    "Los atributos values, index y columns permiten acceder respectivamente a un ndarray del contenido del DataFrame, a los objetos índice de las filas y de las columnas."
   ]
  },
  {
   "cell_type": "code",
   "execution_count": 18,
   "metadata": {},
   "outputs": [
    {
     "name": "stdout",
     "output_type": "stream",
     "text": [
      "<class 'numpy.ndarray'>\n",
      "[['Mario' 24 1.68]\n",
      " ['Caleb' 25 1.69]\n",
      " ['Guillermo' 23 1.8]]\n",
      "RangeIndex(start=0, stop=3, step=1)\n",
      "Index(['nombre', 'edad', 'estatura'], dtype='object')\n",
      "(3, 3)\n"
     ]
    }
   ],
   "source": [
    "import pandas as pd\n",
    "\n",
    "data=[\n",
    "    ['Mario',24,1.68],\n",
    "    ['Caleb',25,1.69],\n",
    "    ['Guillermo',23,1.80],\n",
    "]\n",
    "\n",
    "columns = ['nombre','edad','estatura']\n",
    "\n",
    "df = pd.DataFrame(data=data, columns=columns)\n",
    "\n",
    "print(type(df.values))\n",
    "print(df.values)\n",
    "\n",
    "print(df.index)\n",
    "print(df.columns)\n",
    "\n",
    "print(df.shape) # muestra las dimensiones del df"
   ]
  },
  {
   "cell_type": "code",
   "execution_count": null,
   "metadata": {},
   "outputs": [
    {
     "name": "stdout",
     "output_type": "stream",
     "text": [
      "      nombre  edad  estatura\n",
      "0      Mario    24      1.68\n",
      "1      Caleb    25      1.69\n",
      "2  Guillermo    23      1.80\n",
      "      nombre  edad  estatura\n",
      "0      Mario    24      1.68\n",
      "1      Caleb    25      1.69\n",
      "2  Guillermo    23      1.80\n",
      "<class 'pandas.core.frame.DataFrame'>\n",
      "RangeIndex: 3 entries, 0 to 2\n",
      "Data columns (total 3 columns):\n",
      " #   Column    Non-Null Count  Dtype  \n",
      "---  ------    --------------  -----  \n",
      " 0   nombre    3 non-null      object \n",
      " 1   edad      3 non-null      int64  \n",
      " 2   estatura  3 non-null      float64\n",
      "dtypes: float64(1), int64(1), object(1)\n",
      "memory usage: 204.0+ bytes\n",
      "None\n"
     ]
    }
   ],
   "source": [
    "## metodos permiten inspeccionar los contenidos de un df\n",
    "print(df.head(5)) # muestra los primeros 5\n",
    "print(df.tail(5)) # muestra los ultimos 5\n",
    "print(df.info(5))"
   ]
  },
  {
   "cell_type": "markdown",
   "metadata": {},
   "source": [
    "## Tipos de datos\n",
    "\n",
    "Pandas usa los tipos de NumPy y algunos propios más. Los objetos Series tienen un dtype como los arrays de NumPy. Si los datos que lo componen no son de tipo homogéneo, entonces el dtype de la serie será object (tipo genérico).\n",
    "\n",
    "\n",
    "Los DataFrames tiene un dtype por columna (que es equivalente a una serie). Se pueden ver con el atributo dtypes.\n"
   ]
  },
  {
   "cell_type": "code",
   "execution_count": 25,
   "metadata": {},
   "outputs": [
    {
     "name": "stdout",
     "output_type": "stream",
     "text": [
      "   0   1   2\n",
      "0  0   1   2\n",
      "1  a  10  11\n",
      "0    object\n",
      "1     int64\n",
      "2     int64\n",
      "dtype: object\n",
      "      0     1\n",
      "0   0.0   1.0\n",
      "1  10.0  11.0\n",
      "0    float64\n",
      "1    float64\n",
      "dtype: object\n"
     ]
    }
   ],
   "source": [
    "df = pd.DataFrame([[0, 1, 2], ['a', 10, 11]])\n",
    "print(df)\n",
    "print(df.dtypes)\n",
    "\n",
    "## el parámetro dtype se puede usar para forzar el tipo de las Series\n",
    "df2 = pd.DataFrame([[0, 1], [10, 11]], dtype=float)\n",
    "print(df2)\n",
    "print(df2.dtypes)"
   ]
  }
 ],
 "metadata": {
  "kernelspec": {
   "display_name": "Python 3",
   "language": "python",
   "name": "python3"
  },
  "language_info": {
   "codemirror_mode": {
    "name": "ipython",
    "version": 3
   },
   "file_extension": ".py",
   "mimetype": "text/x-python",
   "name": "python",
   "nbconvert_exporter": "python",
   "pygments_lexer": "ipython3",
   "version": "3.12.6"
  }
 },
 "nbformat": 4,
 "nbformat_minor": 2
}
