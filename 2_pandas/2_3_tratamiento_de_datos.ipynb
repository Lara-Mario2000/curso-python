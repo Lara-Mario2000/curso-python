{
 "cells": [
  {
   "cell_type": "markdown",
   "metadata": {},
   "source": [
    "# Tratamiento de Datos\n",
    "\n",
    "Pandas permite realizar tareas importantes, como alinear datos para su comparación, fusionar conjuntos de datos, gestión de datos perdidos, etc.\n",
    "\n",
    "## Filtro y selección\n",
    "\n",
    "En Python, podemos acceder a la propiedad de un objeto accediendo a ella como un atributo. Un objeto libro, por ejemplo, puede tener un atributo título, a la que podemos acceder llamando a libro.título. Las columnas de un DataFrame de pandas funcionan de forma muy parecida."
   ]
  },
  {
   "cell_type": "code",
   "execution_count": 42,
   "metadata": {},
   "outputs": [
    {
     "name": "stdout",
     "output_type": "stream",
     "text": [
      "0           Photo Editor & Candy Camera & Grid & ScrapBook\n",
      "1                                      Coloring book moana\n",
      "2        U Launcher Lite – FREE Live Cool Themes, Hide ...\n",
      "3                                    Sketch - Draw & Paint\n",
      "4                    Pixel Draw - Number Art Coloring Book\n",
      "                               ...                        \n",
      "10836                                     Sya9a Maroc - FR\n",
      "10837                     Fr. Mike Schmitz Audio Teachings\n",
      "10838                               Parkinson Exercices FR\n",
      "10839                        The SCP Foundation DB fr nn5n\n",
      "10840        iHoroscope - 2018 Daily Horoscope & Astrology\n",
      "Name: App, Length: 10841, dtype: object\n"
     ]
    }
   ],
   "source": [
    "import pandas as pd\n",
    "\n",
    "df = pd.read_csv(r\"..\\2_pandas\\data\\googleplaystore.csv\")\n",
    "print(df.App)"
   ]
  },
  {
   "cell_type": "markdown",
   "metadata": {},
   "source": [
    "Si tenemos un diccionario Python, podemos acceder a sus valores utilizando el operador de indexación ([]). Podemos hacer lo mismo con las columnas de un DataFrame:"
   ]
  },
  {
   "cell_type": "code",
   "execution_count": 25,
   "metadata": {},
   "outputs": [
    {
     "name": "stdout",
     "output_type": "stream",
     "text": [
      "0           Photo Editor & Candy Camera & Grid & ScrapBook\n",
      "1                                      Coloring book moana\n",
      "2        U Launcher Lite – FREE Live Cool Themes, Hide ...\n",
      "3                                    Sketch - Draw & Paint\n",
      "4                    Pixel Draw - Number Art Coloring Book\n",
      "                               ...                        \n",
      "10836                                     Sya9a Maroc - FR\n",
      "10837                     Fr. Mike Schmitz Audio Teachings\n",
      "10838                               Parkinson Exercices FR\n",
      "10839                        The SCP Foundation DB fr nn5n\n",
      "10840        iHoroscope - 2018 Daily Horoscope & Astrology\n",
      "Name: App, Length: 10841, dtype: object\n",
      "                     Size                                                App  \\\n",
      "0                     19M     Photo Editor & Candy Camera & Grid & ScrapBook   \n",
      "1                     14M                                Coloring book moana   \n",
      "2                    8.7M  U Launcher Lite – FREE Live Cool Themes, Hide ...   \n",
      "3                     25M                              Sketch - Draw & Paint   \n",
      "4                    2.8M              Pixel Draw - Number Art Coloring Book   \n",
      "...                   ...                                                ...   \n",
      "10836                 53M                                   Sya9a Maroc - FR   \n",
      "10837                3.6M                   Fr. Mike Schmitz Audio Teachings   \n",
      "10838                9.5M                             Parkinson Exercices FR   \n",
      "10839  Varies with device                      The SCP Foundation DB fr nn5n   \n",
      "10840                 19M      iHoroscope - 2018 Daily Horoscope & Astrology   \n",
      "\n",
      "                     Size  \n",
      "0                     19M  \n",
      "1                     14M  \n",
      "2                    8.7M  \n",
      "3                     25M  \n",
      "4                    2.8M  \n",
      "...                   ...  \n",
      "10836                 53M  \n",
      "10837                3.6M  \n",
      "10838                9.5M  \n",
      "10839  Varies with device  \n",
      "10840                 19M  \n",
      "\n",
      "[10841 rows x 3 columns]\n"
     ]
    }
   ],
   "source": [
    "import pandas as pd\n",
    "\n",
    "### la manera quer yo recomiendo de seleccionar una columna\n",
    "df = pd.read_csv(r\"..\\2_pandas\\data\\googleplaystore.csv\")\n",
    "print(df['App'])\n",
    "\n",
    "## asi mismo se pueden selecionar multiples columnas en cualquier orden y multiples veces\n",
    "print(df[['Size','App','Size']])"
   ]
  },
  {
   "cell_type": "markdown",
   "metadata": {},
   "source": [
    "Hay tres operadores fundamentales para seleccionar filas y columnas: loc, iloc y []. La diferencia fundamental entre loc e iloc es que el primero requiere etiquetas y el segundo, índices numéricos (la i inicial viene de integer)."
   ]
  },
  {
   "cell_type": "code",
   "execution_count": 6,
   "metadata": {},
   "outputs": [
    {
     "name": "stdout",
     "output_type": "stream",
     "text": [
      "App                 SuperLivePro\n",
      "Category                BUSINESS\n",
      "Rating                       4.3\n",
      "Reviews                    46353\n",
      "Size                         21M\n",
      "Installs              1,000,000+\n",
      "Type                        Free\n",
      "Price                          0\n",
      "Content Rating          Everyone\n",
      "Genres                  Business\n",
      "Last Updated      April 13, 2016\n",
      "Current Ver                  2.8\n",
      "Android Ver           1.5 and up\n",
      "Name: 200, dtype: object\n",
      "         Category  Rating Reviews  Size     Installs  Type Price  \\\n",
      "3  ART_AND_DESIGN     4.5  215644   25M  50,000,000+  Free     0   \n",
      "4  ART_AND_DESIGN     4.3     967  2.8M     100,000+  Free     0   \n",
      "\n",
      "  Content Rating                   Genres   Last Updated         Current Ver  \\\n",
      "3           Teen             Art & Design   June 8, 2018  Varies with device   \n",
      "4       Everyone  Art & Design;Creativity  June 20, 2018                 1.1   \n",
      "\n",
      "  Android Ver  \n",
      "3  4.2 and up  \n",
      "4  4.4 and up  \n",
      "                                                 App Reviews\n",
      "1                                Coloring book moana     967\n",
      "2  U Launcher Lite – FREE Live Cool Themes, Hide ...   87510\n",
      "4              Pixel Draw - Number Art Coloring Book     967\n",
      "                                 App             Category  Rating Reviews  \\\n",
      "10838         Parkinson Exercices FR              MEDICAL     NaN       3   \n",
      "10839  The SCP Foundation DB fr nn5n  BOOKS_AND_REFERENCE     4.5     114   \n",
      "\n",
      "                     Size Installs  Type Price Content Rating  \\\n",
      "10838                9.5M   1,000+  Free     0       Everyone   \n",
      "10839  Varies with device   1,000+  Free     0     Mature 17+   \n",
      "\n",
      "                  Genres      Last Updated         Current Ver  \\\n",
      "10838            Medical  January 20, 2017                 1.0   \n",
      "10839  Books & Reference  January 19, 2015  Varies with device   \n",
      "\n",
      "              Android Ver  \n",
      "10838          2.2 and up  \n",
      "10839  Varies with device  \n"
     ]
    }
   ],
   "source": [
    "# por defecto, seleccionamos filas\n",
    "print(df.iloc[200])\n",
    "# pero también se pueden seleccionar filas y columnas\n",
    "# además, usando rangos\n",
    "print(df.iloc[3:5, 1:])\n",
    "# índices no consecutivos\n",
    "# recuerda: en python, se empieza a contar en 0\n",
    "print(df.iloc[[1, 2, 4], [0, 3]])\n",
    "# los índices negativos indican que se empieza a contar desde el final\n",
    "print(df.iloc[-3:-1])"
   ]
  },
  {
   "cell_type": "markdown",
   "metadata": {},
   "source": [
    "### Selección por condiciones\n",
    "\n",
    "Para extraer las filas que cumplen una condición, le pasamos al DataFrame una Series de booleanos, o directamente algo que la devuelva."
   ]
  },
  {
   "cell_type": "code",
   "execution_count": null,
   "metadata": {},
   "outputs": [
    {
     "name": "stdout",
     "output_type": "stream",
     "text": [
      "           App Category  Rating   Reviews                Size        Installs  \\\n",
      "2544  Facebook   SOCIAL     4.1  78158306  Varies with device  1,000,000,000+   \n",
      "3943  Facebook   SOCIAL     4.1  78128208  Varies with device  1,000,000,000+   \n",
      "\n",
      "      Type Price Content Rating  Genres    Last Updated         Current Ver  \\\n",
      "2544  Free     0           Teen  Social  August 3, 2018  Varies with device   \n",
      "3943  Free     0           Teen  Social  August 3, 2018  Varies with device   \n",
      "\n",
      "             Android Ver  \n",
      "2544  Varies with device  \n",
      "3943  Varies with device  \n",
      "                                                   App  Category  Rating  \\\n",
      "196                         Job Search by ZipRecruiter  BUSINESS     4.8   \n",
      "197  Curriculum vitae App CV Builder Free Resume Maker  BUSINESS     4.5   \n",
      "203                       My Space - Employment Center  BUSINESS     4.5   \n",
      "206                                       Call Blocker  BUSINESS     4.6   \n",
      "208                         Square Point of Sale - POS  BUSINESS     4.6   \n",
      "\n",
      "    Reviews                Size    Installs  Type Price Content Rating  \\\n",
      "196  148945                 25M  1,000,000+  Free     0       Everyone   \n",
      "197    4458                3.9M    500,000+  Free     0       Everyone   \n",
      "203   67000  Varies with device  1,000,000+  Free     0       Everyone   \n",
      "206  188841                3.2M  5,000,000+  Free     0       Everyone   \n",
      "208   95912  Varies with device  5,000,000+  Free     0       Everyone   \n",
      "\n",
      "       Genres   Last Updated         Current Ver         Android Ver  \n",
      "196  Business  July 19, 2018               5.2.8          5.0 and up  \n",
      "197  Business   July 8, 2018                 3.3          4.1 and up  \n",
      "203  Business  July 17, 2018  Varies with device          4.3 and up  \n",
      "206  Business  June 21, 2018              1.1.13          4.0 and up  \n",
      "208  Business  July 30, 2018  Varies with device  Varies with device  \n"
     ]
    }
   ],
   "source": [
    "print(df[df['App'] == 'Facebook'].head())\n",
    "\n",
    "# Podemos combinar varias condiciones con & (y lógico) y | (o lógico)\n",
    "print(df[(df['Category'] == 'BUSINESS') & (df['Rating'] >= 4.5)].head())\n"
   ]
  },
  {
   "cell_type": "markdown",
   "metadata": {},
   "source": [
    "### Ordenar un DataFrame\n",
    "\n",
    "Podemos ordenar un DataFrame por una o varias columnas, de forma ascendente o descendente, con sort_values"
   ]
  },
  {
   "cell_type": "code",
   "execution_count": 23,
   "metadata": {},
   "outputs": [
    {
     "data": {
      "text/html": [
       "<div>\n",
       "<style scoped>\n",
       "    .dataframe tbody tr th:only-of-type {\n",
       "        vertical-align: middle;\n",
       "    }\n",
       "\n",
       "    .dataframe tbody tr th {\n",
       "        vertical-align: top;\n",
       "    }\n",
       "\n",
       "    .dataframe thead th {\n",
       "        text-align: right;\n",
       "    }\n",
       "</style>\n",
       "<table border=\"1\" class=\"dataframe\">\n",
       "  <thead>\n",
       "    <tr style=\"text-align: right;\">\n",
       "      <th></th>\n",
       "      <th>App</th>\n",
       "      <th>Category</th>\n",
       "      <th>Rating</th>\n",
       "      <th>Reviews</th>\n",
       "      <th>Size</th>\n",
       "      <th>Installs</th>\n",
       "      <th>Type</th>\n",
       "      <th>Price</th>\n",
       "      <th>Content Rating</th>\n",
       "      <th>Genres</th>\n",
       "      <th>Last Updated</th>\n",
       "      <th>Current Ver</th>\n",
       "      <th>Android Ver</th>\n",
       "    </tr>\n",
       "  </thead>\n",
       "  <tbody>\n",
       "    <tr>\n",
       "      <th>882</th>\n",
       "      <td>🔥 Football Wallpapers 4K | Full HD Backgrounds 😍</td>\n",
       "      <td>ENTERTAINMENT</td>\n",
       "      <td>4.7</td>\n",
       "      <td>11661</td>\n",
       "      <td>4.0M</td>\n",
       "      <td>1,000,000+</td>\n",
       "      <td>Free</td>\n",
       "      <td>0</td>\n",
       "      <td>Everyone</td>\n",
       "      <td>Entertainment</td>\n",
       "      <td>July 14, 2018</td>\n",
       "      <td>1.1.3.2</td>\n",
       "      <td>4.0.3 and up</td>\n",
       "    </tr>\n",
       "    <tr>\n",
       "      <th>7559</th>\n",
       "      <td>📏 Smart Ruler ↔️ cm/inch measuring for homework!</td>\n",
       "      <td>TOOLS</td>\n",
       "      <td>4.0</td>\n",
       "      <td>19</td>\n",
       "      <td>3.2M</td>\n",
       "      <td>10,000+</td>\n",
       "      <td>Free</td>\n",
       "      <td>0</td>\n",
       "      <td>Everyone</td>\n",
       "      <td>Tools</td>\n",
       "      <td>October 21, 2017</td>\n",
       "      <td>1.0</td>\n",
       "      <td>4.2 and up</td>\n",
       "    </tr>\n",
       "    <tr>\n",
       "      <th>2575</th>\n",
       "      <td>💘 WhatsLov: Smileys of love, stickers and GIF</td>\n",
       "      <td>SOCIAL</td>\n",
       "      <td>4.6</td>\n",
       "      <td>22098</td>\n",
       "      <td>18M</td>\n",
       "      <td>1,000,000+</td>\n",
       "      <td>Free</td>\n",
       "      <td>0</td>\n",
       "      <td>Everyone</td>\n",
       "      <td>Social</td>\n",
       "      <td>July 24, 2018</td>\n",
       "      <td>4.2.4</td>\n",
       "      <td>4.0.3 and up</td>\n",
       "    </tr>\n",
       "    <tr>\n",
       "      <th>4362</th>\n",
       "      <td>💎 I'm rich</td>\n",
       "      <td>LIFESTYLE</td>\n",
       "      <td>3.8</td>\n",
       "      <td>718</td>\n",
       "      <td>26M</td>\n",
       "      <td>10,000+</td>\n",
       "      <td>Paid</td>\n",
       "      <td>$399.99</td>\n",
       "      <td>Everyone</td>\n",
       "      <td>Lifestyle</td>\n",
       "      <td>March 11, 2018</td>\n",
       "      <td>1.0.0</td>\n",
       "      <td>4.4 and up</td>\n",
       "    </tr>\n",
       "    <tr>\n",
       "      <th>6334</th>\n",
       "      <td>뽕티비 - 개인방송, 인터넷방송, BJ방송</td>\n",
       "      <td>VIDEO_PLAYERS</td>\n",
       "      <td>NaN</td>\n",
       "      <td>414</td>\n",
       "      <td>59M</td>\n",
       "      <td>100,000+</td>\n",
       "      <td>Free</td>\n",
       "      <td>0</td>\n",
       "      <td>Mature 17+</td>\n",
       "      <td>Video Players &amp; Editors</td>\n",
       "      <td>July 18, 2018</td>\n",
       "      <td>4.0.7</td>\n",
       "      <td>4.0.3 and up</td>\n",
       "    </tr>\n",
       "  </tbody>\n",
       "</table>\n",
       "</div>"
      ],
      "text/plain": [
       "                                                   App       Category  Rating  \\\n",
       "882   🔥 Football Wallpapers 4K | Full HD Backgrounds 😍  ENTERTAINMENT     4.7   \n",
       "7559  📏 Smart Ruler ↔️ cm/inch measuring for homework!          TOOLS     4.0   \n",
       "2575     💘 WhatsLov: Smileys of love, stickers and GIF         SOCIAL     4.6   \n",
       "4362                                        💎 I'm rich      LIFESTYLE     3.8   \n",
       "6334                           뽕티비 - 개인방송, 인터넷방송, BJ방송  VIDEO_PLAYERS     NaN   \n",
       "\n",
       "     Reviews  Size    Installs  Type    Price Content Rating  \\\n",
       "882    11661  4.0M  1,000,000+  Free        0       Everyone   \n",
       "7559      19  3.2M     10,000+  Free        0       Everyone   \n",
       "2575   22098   18M  1,000,000+  Free        0       Everyone   \n",
       "4362     718   26M     10,000+  Paid  $399.99       Everyone   \n",
       "6334     414   59M    100,000+  Free        0     Mature 17+   \n",
       "\n",
       "                       Genres      Last Updated Current Ver   Android Ver  \n",
       "882             Entertainment     July 14, 2018     1.1.3.2  4.0.3 and up  \n",
       "7559                    Tools  October 21, 2017         1.0    4.2 and up  \n",
       "2575                   Social     July 24, 2018       4.2.4  4.0.3 and up  \n",
       "4362                Lifestyle    March 11, 2018       1.0.0    4.4 and up  \n",
       "6334  Video Players & Editors     July 18, 2018       4.0.7  4.0.3 and up  "
      ]
     },
     "execution_count": 23,
     "metadata": {},
     "output_type": "execute_result"
    }
   ],
   "source": [
    "df.sort_values('App', ascending=True).head()\n",
    "df.sort_values(['App', 'Category', 'Price'], ascending=[False, False, True]).head()"
   ]
  },
  {
   "cell_type": "markdown",
   "metadata": {},
   "source": [
    "## Transformación\n",
    "\n",
    "Nuevas columnas calculadas, cambio de tipo de dato, eliminar una columna\n",
    "\n",
    "### Crear una columna calculada\n",
    "Podemos operar sobre las columnas para crear otras nuevas"
   ]
  },
  {
   "cell_type": "code",
   "execution_count": 29,
   "metadata": {},
   "outputs": [
    {
     "name": "stdout",
     "output_type": "stream",
     "text": [
      "                                                     App             Category  \\\n",
      "0         Photo Editor & Candy Camera & Grid & ScrapBook       ART_AND_DESIGN   \n",
      "1                                    Coloring book moana       ART_AND_DESIGN   \n",
      "2      U Launcher Lite – FREE Live Cool Themes, Hide ...       ART_AND_DESIGN   \n",
      "3                                  Sketch - Draw & Paint       ART_AND_DESIGN   \n",
      "4                  Pixel Draw - Number Art Coloring Book       ART_AND_DESIGN   \n",
      "...                                                  ...                  ...   \n",
      "10836                                   Sya9a Maroc - FR               FAMILY   \n",
      "10837                   Fr. Mike Schmitz Audio Teachings               FAMILY   \n",
      "10838                             Parkinson Exercices FR              MEDICAL   \n",
      "10839                      The SCP Foundation DB fr nn5n  BOOKS_AND_REFERENCE   \n",
      "10840      iHoroscope - 2018 Daily Horoscope & Astrology            LIFESTYLE   \n",
      "\n",
      "       Rating Reviews                Size     Installs  Type Price  \\\n",
      "0        82.0     159                 19M      10,000+  Free     0   \n",
      "1        78.0     967                 14M     500,000+  Free     0   \n",
      "2        94.0   87510                8.7M   5,000,000+  Free     0   \n",
      "3        90.0  215644                 25M  50,000,000+  Free     0   \n",
      "4        86.0     967                2.8M     100,000+  Free     0   \n",
      "...       ...     ...                 ...          ...   ...   ...   \n",
      "10836    90.0      38                 53M       5,000+  Free     0   \n",
      "10837   100.0       4                3.6M         100+  Free     0   \n",
      "10838     NaN       3                9.5M       1,000+  Free     0   \n",
      "10839    90.0     114  Varies with device       1,000+  Free     0   \n",
      "10840    90.0  398307                 19M  10,000,000+  Free     0   \n",
      "\n",
      "      Content Rating                     Genres      Last Updated  \\\n",
      "0           Everyone               Art & Design   January 7, 2018   \n",
      "1           Everyone  Art & Design;Pretend Play  January 15, 2018   \n",
      "2           Everyone               Art & Design    August 1, 2018   \n",
      "3               Teen               Art & Design      June 8, 2018   \n",
      "4           Everyone    Art & Design;Creativity     June 20, 2018   \n",
      "...              ...                        ...               ...   \n",
      "10836       Everyone                  Education     July 25, 2017   \n",
      "10837       Everyone                  Education      July 6, 2018   \n",
      "10838       Everyone                    Medical  January 20, 2017   \n",
      "10839     Mature 17+          Books & Reference  January 19, 2015   \n",
      "10840       Everyone                  Lifestyle     July 25, 2018   \n",
      "\n",
      "              Current Ver         Android Ver  \n",
      "0                   1.0.0        4.0.3 and up  \n",
      "1                   2.0.0        4.0.3 and up  \n",
      "2                   1.2.4        4.0.3 and up  \n",
      "3      Varies with device          4.2 and up  \n",
      "4                     1.1          4.4 and up  \n",
      "...                   ...                 ...  \n",
      "10836                1.48          4.1 and up  \n",
      "10837                 1.0          4.1 and up  \n",
      "10838                 1.0          2.2 and up  \n",
      "10839  Varies with device  Varies with device  \n",
      "10840  Varies with device  Varies with device  \n",
      "\n",
      "[10841 rows x 13 columns]\n"
     ]
    }
   ],
   "source": [
    "df2 = df.copy()\n",
    "\n",
    "df2['Rating'] = (df2['Rating'] / 5) * 100\n",
    "print(df2)"
   ]
  },
  {
   "cell_type": "markdown",
   "metadata": {},
   "source": [
    "### Renombrar una columna"
   ]
  },
  {
   "cell_type": "code",
   "execution_count": 30,
   "metadata": {},
   "outputs": [
    {
     "name": "stdout",
     "output_type": "stream",
     "text": [
      "0         82.0\n",
      "1         78.0\n",
      "2         94.0\n",
      "3         90.0\n",
      "4         86.0\n",
      "         ...  \n",
      "10836     90.0\n",
      "10837    100.0\n",
      "10838      NaN\n",
      "10839     90.0\n",
      "10840     90.0\n",
      "Name: score, Length: 10841, dtype: float64\n"
     ]
    }
   ],
   "source": [
    "df2 = df2.rename(columns={'Rating':'score'})\n",
    "print(df2['score'])"
   ]
  },
  {
   "cell_type": "markdown",
   "metadata": {},
   "source": [
    "La importancia de la nomenclatura\n",
    "Tener buenos nombres de columnas en un DataFrame es importante. Hará mucho más legible nuestro código si nuestras columnas tienen nombres descriptivos, sin caracteres extraños y separados por _.\n",
    "\n",
    "Unos cuantos ejemplos de malos nombres:\n",
    "\n",
    "col1, col2, ..., colN: no sabemos qué es cada cosa.\n",
    "precio euros, metros cuadrados: los espacios dificultan escribir código. Por ejemplo, ya no podremos acceder a las columnas con la notación dataframe.columna.\n",
    "año, variación, precio_€: los caracteres no-asciii (que no son letras no acentuadas ni números) pueden dar problemas al compartir código (p.e. entre Linux y Windows), al exportar / importar, etc. Es mejor evitarlos.\n",
    "PrecioEuros, MetrosCuadrados: aunque es más sutil, el estándar en Python es escribir en snake_case. Es decir, utilizando minúsculas y usando _ para separar palabras."
   ]
  },
  {
   "cell_type": "markdown",
   "metadata": {},
   "source": [
    "### Eliminar una columna\n",
    "\n",
    "Podemos utilizar drop."
   ]
  },
  {
   "cell_type": "code",
   "execution_count": 32,
   "metadata": {},
   "outputs": [
    {
     "name": "stdout",
     "output_type": "stream",
     "text": [
      "                                                     App             Category  \\\n",
      "0         Photo Editor & Candy Camera & Grid & ScrapBook       ART_AND_DESIGN   \n",
      "1                                    Coloring book moana       ART_AND_DESIGN   \n",
      "2      U Launcher Lite – FREE Live Cool Themes, Hide ...       ART_AND_DESIGN   \n",
      "3                                  Sketch - Draw & Paint       ART_AND_DESIGN   \n",
      "4                  Pixel Draw - Number Art Coloring Book       ART_AND_DESIGN   \n",
      "...                                                  ...                  ...   \n",
      "10836                                   Sya9a Maroc - FR               FAMILY   \n",
      "10837                   Fr. Mike Schmitz Audio Teachings               FAMILY   \n",
      "10838                             Parkinson Exercices FR              MEDICAL   \n",
      "10839                      The SCP Foundation DB fr nn5n  BOOKS_AND_REFERENCE   \n",
      "10840      iHoroscope - 2018 Daily Horoscope & Astrology            LIFESTYLE   \n",
      "\n",
      "       Rating Reviews                Size  Type Price  \\\n",
      "0         4.1     159                 19M  Free     0   \n",
      "1         3.9     967                 14M  Free     0   \n",
      "2         4.7   87510                8.7M  Free     0   \n",
      "3         4.5  215644                 25M  Free     0   \n",
      "4         4.3     967                2.8M  Free     0   \n",
      "...       ...     ...                 ...   ...   ...   \n",
      "10836     4.5      38                 53M  Free     0   \n",
      "10837     5.0       4                3.6M  Free     0   \n",
      "10838     NaN       3                9.5M  Free     0   \n",
      "10839     4.5     114  Varies with device  Free     0   \n",
      "10840     4.5  398307                 19M  Free     0   \n",
      "\n",
      "                          Genres      Last Updated         Current Ver  \\\n",
      "0                   Art & Design   January 7, 2018               1.0.0   \n",
      "1      Art & Design;Pretend Play  January 15, 2018               2.0.0   \n",
      "2                   Art & Design    August 1, 2018               1.2.4   \n",
      "3                   Art & Design      June 8, 2018  Varies with device   \n",
      "4        Art & Design;Creativity     June 20, 2018                 1.1   \n",
      "...                          ...               ...                 ...   \n",
      "10836                  Education     July 25, 2017                1.48   \n",
      "10837                  Education      July 6, 2018                 1.0   \n",
      "10838                    Medical  January 20, 2017                 1.0   \n",
      "10839          Books & Reference  January 19, 2015  Varies with device   \n",
      "10840                  Lifestyle     July 25, 2018  Varies with device   \n",
      "\n",
      "              Android Ver  \n",
      "0            4.0.3 and up  \n",
      "1            4.0.3 and up  \n",
      "2            4.0.3 and up  \n",
      "3              4.2 and up  \n",
      "4              4.4 and up  \n",
      "...                   ...  \n",
      "10836          4.1 and up  \n",
      "10837          4.1 and up  \n",
      "10838          2.2 and up  \n",
      "10839  Varies with device  \n",
      "10840  Varies with device  \n",
      "\n",
      "[10841 rows x 11 columns]\n"
     ]
    }
   ],
   "source": [
    "df2 = df.copy()\n",
    "\n",
    "df2 = df2.drop(columns=['Installs'])\n",
    "### tambien se puede con la siguiente manera:\n",
    "df2.drop(columns=['Content Rating'],inplace=True)\n",
    "\n",
    "print(df2)"
   ]
  },
  {
   "cell_type": "markdown",
   "metadata": {},
   "source": [
    "### Cambiar el tipo de dato\n",
    "\n",
    "podemos usar astype para convertir la columna a numérica (o cualquier otro tipo de dato)."
   ]
  },
  {
   "cell_type": "code",
   "execution_count": 38,
   "metadata": {},
   "outputs": [
    {
     "name": "stdout",
     "output_type": "stream",
     "text": [
      "App                object\n",
      "Category           object\n",
      "Rating            float64\n",
      "Reviews            object\n",
      "Size               object\n",
      "Installs           object\n",
      "Type               object\n",
      "Price              object\n",
      "Content Rating     object\n",
      "Genres             object\n",
      "Last Updated       object\n",
      "Current Ver        object\n",
      "Android Ver        object\n",
      "dtype: object\n",
      "App               object\n",
      "Category          object\n",
      "Rating            object\n",
      "Reviews           object\n",
      "Size              object\n",
      "Installs          object\n",
      "Type              object\n",
      "Price             object\n",
      "Content Rating    object\n",
      "Genres            object\n",
      "Last Updated      object\n",
      "Current Ver       object\n",
      "Android Ver       object\n",
      "dtype: object\n"
     ]
    }
   ],
   "source": [
    "df2 = df.copy()\n",
    "print(df2.dtypes)\n",
    "df2['Rating'] = df2['Rating'].astype(str)\n",
    "print(df2.dtypes)\n"
   ]
  },
  {
   "cell_type": "markdown",
   "metadata": {},
   "source": [
    "## Tratamiento de datos\n",
    "\n",
    "Si intentamos convertir algunas columnas a otros tipos de datos como por ejemplo la de rating a int o la de Las Update a fecha nos veremos con problemas para realizar esta operacion. Esto es debido a que algunas veces los datosa pueden contener residuos o caracteres basura, o simplemente puede ser algun error humano, o requerir de algun tratamiento extra. Para hacer eso podemos operar con las columnas de la siguiente manera:"
   ]
  },
  {
   "cell_type": "code",
   "execution_count": 39,
   "metadata": {},
   "outputs": [
    {
     "ename": "IntCastingNaNError",
     "evalue": "Cannot convert non-finite values (NA or inf) to integer",
     "output_type": "error",
     "traceback": [
      "\u001b[1;31m---------------------------------------------------------------------------\u001b[0m",
      "\u001b[1;31mIntCastingNaNError\u001b[0m                        Traceback (most recent call last)",
      "Cell \u001b[1;32mIn[39], line 2\u001b[0m\n\u001b[0;32m      1\u001b[0m df2 \u001b[38;5;241m=\u001b[39m df\u001b[38;5;241m.\u001b[39mcopy()\n\u001b[1;32m----> 2\u001b[0m df2[\u001b[38;5;124m'\u001b[39m\u001b[38;5;124mRating\u001b[39m\u001b[38;5;124m'\u001b[39m] \u001b[38;5;241m=\u001b[39m \u001b[43mdf2\u001b[49m\u001b[43m[\u001b[49m\u001b[38;5;124;43m'\u001b[39;49m\u001b[38;5;124;43mRating\u001b[39;49m\u001b[38;5;124;43m'\u001b[39;49m\u001b[43m]\u001b[49m\u001b[38;5;241;43m.\u001b[39;49m\u001b[43mastype\u001b[49m\u001b[43m(\u001b[49m\u001b[38;5;28;43mint\u001b[39;49m\u001b[43m)\u001b[49m\n",
      "File \u001b[1;32mc:\\Users\\lara_\\AppData\\Local\\Programs\\Python\\Python312\\Lib\\site-packages\\pandas\\core\\generic.py:6637\u001b[0m, in \u001b[0;36mNDFrame.astype\u001b[1;34m(self, dtype, copy, errors)\u001b[0m\n\u001b[0;32m   6631\u001b[0m     results \u001b[38;5;241m=\u001b[39m [\n\u001b[0;32m   6632\u001b[0m         ser\u001b[38;5;241m.\u001b[39mastype(dtype, copy\u001b[38;5;241m=\u001b[39mcopy, errors\u001b[38;5;241m=\u001b[39merrors) \u001b[38;5;28;01mfor\u001b[39;00m _, ser \u001b[38;5;129;01min\u001b[39;00m \u001b[38;5;28mself\u001b[39m\u001b[38;5;241m.\u001b[39mitems()\n\u001b[0;32m   6633\u001b[0m     ]\n\u001b[0;32m   6635\u001b[0m \u001b[38;5;28;01melse\u001b[39;00m:\n\u001b[0;32m   6636\u001b[0m     \u001b[38;5;66;03m# else, only a single dtype is given\u001b[39;00m\n\u001b[1;32m-> 6637\u001b[0m     new_data \u001b[38;5;241m=\u001b[39m \u001b[38;5;28;43mself\u001b[39;49m\u001b[38;5;241;43m.\u001b[39;49m\u001b[43m_mgr\u001b[49m\u001b[38;5;241;43m.\u001b[39;49m\u001b[43mastype\u001b[49m\u001b[43m(\u001b[49m\u001b[43mdtype\u001b[49m\u001b[38;5;241;43m=\u001b[39;49m\u001b[43mdtype\u001b[49m\u001b[43m,\u001b[49m\u001b[43m \u001b[49m\u001b[43mcopy\u001b[49m\u001b[38;5;241;43m=\u001b[39;49m\u001b[43mcopy\u001b[49m\u001b[43m,\u001b[49m\u001b[43m \u001b[49m\u001b[43merrors\u001b[49m\u001b[38;5;241;43m=\u001b[39;49m\u001b[43merrors\u001b[49m\u001b[43m)\u001b[49m\n\u001b[0;32m   6638\u001b[0m     res \u001b[38;5;241m=\u001b[39m \u001b[38;5;28mself\u001b[39m\u001b[38;5;241m.\u001b[39m_constructor_from_mgr(new_data, axes\u001b[38;5;241m=\u001b[39mnew_data\u001b[38;5;241m.\u001b[39maxes)\n\u001b[0;32m   6639\u001b[0m     \u001b[38;5;28;01mreturn\u001b[39;00m res\u001b[38;5;241m.\u001b[39m__finalize__(\u001b[38;5;28mself\u001b[39m, method\u001b[38;5;241m=\u001b[39m\u001b[38;5;124m\"\u001b[39m\u001b[38;5;124mastype\u001b[39m\u001b[38;5;124m\"\u001b[39m)\n",
      "File \u001b[1;32mc:\\Users\\lara_\\AppData\\Local\\Programs\\Python\\Python312\\Lib\\site-packages\\pandas\\core\\internals\\managers.py:431\u001b[0m, in \u001b[0;36mBaseBlockManager.astype\u001b[1;34m(self, dtype, copy, errors)\u001b[0m\n\u001b[0;32m    428\u001b[0m \u001b[38;5;28;01melif\u001b[39;00m using_copy_on_write():\n\u001b[0;32m    429\u001b[0m     copy \u001b[38;5;241m=\u001b[39m \u001b[38;5;28;01mFalse\u001b[39;00m\n\u001b[1;32m--> 431\u001b[0m \u001b[38;5;28;01mreturn\u001b[39;00m \u001b[38;5;28;43mself\u001b[39;49m\u001b[38;5;241;43m.\u001b[39;49m\u001b[43mapply\u001b[49m\u001b[43m(\u001b[49m\n\u001b[0;32m    432\u001b[0m \u001b[43m    \u001b[49m\u001b[38;5;124;43m\"\u001b[39;49m\u001b[38;5;124;43mastype\u001b[39;49m\u001b[38;5;124;43m\"\u001b[39;49m\u001b[43m,\u001b[49m\n\u001b[0;32m    433\u001b[0m \u001b[43m    \u001b[49m\u001b[43mdtype\u001b[49m\u001b[38;5;241;43m=\u001b[39;49m\u001b[43mdtype\u001b[49m\u001b[43m,\u001b[49m\n\u001b[0;32m    434\u001b[0m \u001b[43m    \u001b[49m\u001b[43mcopy\u001b[49m\u001b[38;5;241;43m=\u001b[39;49m\u001b[43mcopy\u001b[49m\u001b[43m,\u001b[49m\n\u001b[0;32m    435\u001b[0m \u001b[43m    \u001b[49m\u001b[43merrors\u001b[49m\u001b[38;5;241;43m=\u001b[39;49m\u001b[43merrors\u001b[49m\u001b[43m,\u001b[49m\n\u001b[0;32m    436\u001b[0m \u001b[43m    \u001b[49m\u001b[43musing_cow\u001b[49m\u001b[38;5;241;43m=\u001b[39;49m\u001b[43musing_copy_on_write\u001b[49m\u001b[43m(\u001b[49m\u001b[43m)\u001b[49m\u001b[43m,\u001b[49m\n\u001b[0;32m    437\u001b[0m \u001b[43m\u001b[49m\u001b[43m)\u001b[49m\n",
      "File \u001b[1;32mc:\\Users\\lara_\\AppData\\Local\\Programs\\Python\\Python312\\Lib\\site-packages\\pandas\\core\\internals\\managers.py:364\u001b[0m, in \u001b[0;36mBaseBlockManager.apply\u001b[1;34m(self, f, align_keys, **kwargs)\u001b[0m\n\u001b[0;32m    362\u001b[0m         applied \u001b[38;5;241m=\u001b[39m b\u001b[38;5;241m.\u001b[39mapply(f, \u001b[38;5;241m*\u001b[39m\u001b[38;5;241m*\u001b[39mkwargs)\n\u001b[0;32m    363\u001b[0m     \u001b[38;5;28;01melse\u001b[39;00m:\n\u001b[1;32m--> 364\u001b[0m         applied \u001b[38;5;241m=\u001b[39m \u001b[38;5;28;43mgetattr\u001b[39;49m\u001b[43m(\u001b[49m\u001b[43mb\u001b[49m\u001b[43m,\u001b[49m\u001b[43m \u001b[49m\u001b[43mf\u001b[49m\u001b[43m)\u001b[49m\u001b[43m(\u001b[49m\u001b[38;5;241;43m*\u001b[39;49m\u001b[38;5;241;43m*\u001b[39;49m\u001b[43mkwargs\u001b[49m\u001b[43m)\u001b[49m\n\u001b[0;32m    365\u001b[0m     result_blocks \u001b[38;5;241m=\u001b[39m extend_blocks(applied, result_blocks)\n\u001b[0;32m    367\u001b[0m out \u001b[38;5;241m=\u001b[39m \u001b[38;5;28mtype\u001b[39m(\u001b[38;5;28mself\u001b[39m)\u001b[38;5;241m.\u001b[39mfrom_blocks(result_blocks, \u001b[38;5;28mself\u001b[39m\u001b[38;5;241m.\u001b[39maxes)\n",
      "File \u001b[1;32mc:\\Users\\lara_\\AppData\\Local\\Programs\\Python\\Python312\\Lib\\site-packages\\pandas\\core\\internals\\blocks.py:758\u001b[0m, in \u001b[0;36mBlock.astype\u001b[1;34m(self, dtype, copy, errors, using_cow, squeeze)\u001b[0m\n\u001b[0;32m    755\u001b[0m         \u001b[38;5;28;01mraise\u001b[39;00m \u001b[38;5;167;01mValueError\u001b[39;00m(\u001b[38;5;124m\"\u001b[39m\u001b[38;5;124mCan not squeeze with more than one column.\u001b[39m\u001b[38;5;124m\"\u001b[39m)\n\u001b[0;32m    756\u001b[0m     values \u001b[38;5;241m=\u001b[39m values[\u001b[38;5;241m0\u001b[39m, :]  \u001b[38;5;66;03m# type: ignore[call-overload]\u001b[39;00m\n\u001b[1;32m--> 758\u001b[0m new_values \u001b[38;5;241m=\u001b[39m \u001b[43mastype_array_safe\u001b[49m\u001b[43m(\u001b[49m\u001b[43mvalues\u001b[49m\u001b[43m,\u001b[49m\u001b[43m \u001b[49m\u001b[43mdtype\u001b[49m\u001b[43m,\u001b[49m\u001b[43m \u001b[49m\u001b[43mcopy\u001b[49m\u001b[38;5;241;43m=\u001b[39;49m\u001b[43mcopy\u001b[49m\u001b[43m,\u001b[49m\u001b[43m \u001b[49m\u001b[43merrors\u001b[49m\u001b[38;5;241;43m=\u001b[39;49m\u001b[43merrors\u001b[49m\u001b[43m)\u001b[49m\n\u001b[0;32m    760\u001b[0m new_values \u001b[38;5;241m=\u001b[39m maybe_coerce_values(new_values)\n\u001b[0;32m    762\u001b[0m refs \u001b[38;5;241m=\u001b[39m \u001b[38;5;28;01mNone\u001b[39;00m\n",
      "File \u001b[1;32mc:\\Users\\lara_\\AppData\\Local\\Programs\\Python\\Python312\\Lib\\site-packages\\pandas\\core\\dtypes\\astype.py:237\u001b[0m, in \u001b[0;36mastype_array_safe\u001b[1;34m(values, dtype, copy, errors)\u001b[0m\n\u001b[0;32m    234\u001b[0m     dtype \u001b[38;5;241m=\u001b[39m dtype\u001b[38;5;241m.\u001b[39mnumpy_dtype\n\u001b[0;32m    236\u001b[0m \u001b[38;5;28;01mtry\u001b[39;00m:\n\u001b[1;32m--> 237\u001b[0m     new_values \u001b[38;5;241m=\u001b[39m \u001b[43mastype_array\u001b[49m\u001b[43m(\u001b[49m\u001b[43mvalues\u001b[49m\u001b[43m,\u001b[49m\u001b[43m \u001b[49m\u001b[43mdtype\u001b[49m\u001b[43m,\u001b[49m\u001b[43m \u001b[49m\u001b[43mcopy\u001b[49m\u001b[38;5;241;43m=\u001b[39;49m\u001b[43mcopy\u001b[49m\u001b[43m)\u001b[49m\n\u001b[0;32m    238\u001b[0m \u001b[38;5;28;01mexcept\u001b[39;00m (\u001b[38;5;167;01mValueError\u001b[39;00m, \u001b[38;5;167;01mTypeError\u001b[39;00m):\n\u001b[0;32m    239\u001b[0m     \u001b[38;5;66;03m# e.g. _astype_nansafe can fail on object-dtype of strings\u001b[39;00m\n\u001b[0;32m    240\u001b[0m     \u001b[38;5;66;03m#  trying to convert to float\u001b[39;00m\n\u001b[0;32m    241\u001b[0m     \u001b[38;5;28;01mif\u001b[39;00m errors \u001b[38;5;241m==\u001b[39m \u001b[38;5;124m\"\u001b[39m\u001b[38;5;124mignore\u001b[39m\u001b[38;5;124m\"\u001b[39m:\n",
      "File \u001b[1;32mc:\\Users\\lara_\\AppData\\Local\\Programs\\Python\\Python312\\Lib\\site-packages\\pandas\\core\\dtypes\\astype.py:182\u001b[0m, in \u001b[0;36mastype_array\u001b[1;34m(values, dtype, copy)\u001b[0m\n\u001b[0;32m    179\u001b[0m     values \u001b[38;5;241m=\u001b[39m values\u001b[38;5;241m.\u001b[39mastype(dtype, copy\u001b[38;5;241m=\u001b[39mcopy)\n\u001b[0;32m    181\u001b[0m \u001b[38;5;28;01melse\u001b[39;00m:\n\u001b[1;32m--> 182\u001b[0m     values \u001b[38;5;241m=\u001b[39m \u001b[43m_astype_nansafe\u001b[49m\u001b[43m(\u001b[49m\u001b[43mvalues\u001b[49m\u001b[43m,\u001b[49m\u001b[43m \u001b[49m\u001b[43mdtype\u001b[49m\u001b[43m,\u001b[49m\u001b[43m \u001b[49m\u001b[43mcopy\u001b[49m\u001b[38;5;241;43m=\u001b[39;49m\u001b[43mcopy\u001b[49m\u001b[43m)\u001b[49m\n\u001b[0;32m    184\u001b[0m \u001b[38;5;66;03m# in pandas we don't store numpy str dtypes, so convert to object\u001b[39;00m\n\u001b[0;32m    185\u001b[0m \u001b[38;5;28;01mif\u001b[39;00m \u001b[38;5;28misinstance\u001b[39m(dtype, np\u001b[38;5;241m.\u001b[39mdtype) \u001b[38;5;129;01mand\u001b[39;00m \u001b[38;5;28missubclass\u001b[39m(values\u001b[38;5;241m.\u001b[39mdtype\u001b[38;5;241m.\u001b[39mtype, \u001b[38;5;28mstr\u001b[39m):\n",
      "File \u001b[1;32mc:\\Users\\lara_\\AppData\\Local\\Programs\\Python\\Python312\\Lib\\site-packages\\pandas\\core\\dtypes\\astype.py:101\u001b[0m, in \u001b[0;36m_astype_nansafe\u001b[1;34m(arr, dtype, copy, skipna)\u001b[0m\n\u001b[0;32m     96\u001b[0m     \u001b[38;5;28;01mreturn\u001b[39;00m lib\u001b[38;5;241m.\u001b[39mensure_string_array(\n\u001b[0;32m     97\u001b[0m         arr, skipna\u001b[38;5;241m=\u001b[39mskipna, convert_na_value\u001b[38;5;241m=\u001b[39m\u001b[38;5;28;01mFalse\u001b[39;00m\n\u001b[0;32m     98\u001b[0m     )\u001b[38;5;241m.\u001b[39mreshape(shape)\n\u001b[0;32m    100\u001b[0m \u001b[38;5;28;01melif\u001b[39;00m np\u001b[38;5;241m.\u001b[39missubdtype(arr\u001b[38;5;241m.\u001b[39mdtype, np\u001b[38;5;241m.\u001b[39mfloating) \u001b[38;5;129;01mand\u001b[39;00m dtype\u001b[38;5;241m.\u001b[39mkind \u001b[38;5;129;01min\u001b[39;00m \u001b[38;5;124m\"\u001b[39m\u001b[38;5;124miu\u001b[39m\u001b[38;5;124m\"\u001b[39m:\n\u001b[1;32m--> 101\u001b[0m     \u001b[38;5;28;01mreturn\u001b[39;00m \u001b[43m_astype_float_to_int_nansafe\u001b[49m\u001b[43m(\u001b[49m\u001b[43marr\u001b[49m\u001b[43m,\u001b[49m\u001b[43m \u001b[49m\u001b[43mdtype\u001b[49m\u001b[43m,\u001b[49m\u001b[43m \u001b[49m\u001b[43mcopy\u001b[49m\u001b[43m)\u001b[49m\n\u001b[0;32m    103\u001b[0m \u001b[38;5;28;01melif\u001b[39;00m arr\u001b[38;5;241m.\u001b[39mdtype \u001b[38;5;241m==\u001b[39m \u001b[38;5;28mobject\u001b[39m:\n\u001b[0;32m    104\u001b[0m     \u001b[38;5;66;03m# if we have a datetime/timedelta array of objects\u001b[39;00m\n\u001b[0;32m    105\u001b[0m     \u001b[38;5;66;03m# then coerce to datetime64[ns] and use DatetimeArray.astype\u001b[39;00m\n\u001b[0;32m    107\u001b[0m     \u001b[38;5;28;01mif\u001b[39;00m lib\u001b[38;5;241m.\u001b[39mis_np_dtype(dtype, \u001b[38;5;124m\"\u001b[39m\u001b[38;5;124mM\u001b[39m\u001b[38;5;124m\"\u001b[39m):\n",
      "File \u001b[1;32mc:\\Users\\lara_\\AppData\\Local\\Programs\\Python\\Python312\\Lib\\site-packages\\pandas\\core\\dtypes\\astype.py:145\u001b[0m, in \u001b[0;36m_astype_float_to_int_nansafe\u001b[1;34m(values, dtype, copy)\u001b[0m\n\u001b[0;32m    141\u001b[0m \u001b[38;5;250m\u001b[39m\u001b[38;5;124;03m\"\"\"\u001b[39;00m\n\u001b[0;32m    142\u001b[0m \u001b[38;5;124;03mastype with a check preventing converting NaN to an meaningless integer value.\u001b[39;00m\n\u001b[0;32m    143\u001b[0m \u001b[38;5;124;03m\"\"\"\u001b[39;00m\n\u001b[0;32m    144\u001b[0m \u001b[38;5;28;01mif\u001b[39;00m \u001b[38;5;129;01mnot\u001b[39;00m np\u001b[38;5;241m.\u001b[39misfinite(values)\u001b[38;5;241m.\u001b[39mall():\n\u001b[1;32m--> 145\u001b[0m     \u001b[38;5;28;01mraise\u001b[39;00m IntCastingNaNError(\n\u001b[0;32m    146\u001b[0m         \u001b[38;5;124m\"\u001b[39m\u001b[38;5;124mCannot convert non-finite values (NA or inf) to integer\u001b[39m\u001b[38;5;124m\"\u001b[39m\n\u001b[0;32m    147\u001b[0m     )\n\u001b[0;32m    148\u001b[0m \u001b[38;5;28;01mif\u001b[39;00m dtype\u001b[38;5;241m.\u001b[39mkind \u001b[38;5;241m==\u001b[39m \u001b[38;5;124m\"\u001b[39m\u001b[38;5;124mu\u001b[39m\u001b[38;5;124m\"\u001b[39m:\n\u001b[0;32m    149\u001b[0m     \u001b[38;5;66;03m# GH#45151\u001b[39;00m\n\u001b[0;32m    150\u001b[0m     \u001b[38;5;28;01mif\u001b[39;00m \u001b[38;5;129;01mnot\u001b[39;00m (values \u001b[38;5;241m>\u001b[39m\u001b[38;5;241m=\u001b[39m \u001b[38;5;241m0\u001b[39m)\u001b[38;5;241m.\u001b[39mall():\n",
      "\u001b[1;31mIntCastingNaNError\u001b[0m: Cannot convert non-finite values (NA or inf) to integer"
     ]
    }
   ],
   "source": [
    "df2 = df.copy()\n",
    "df2['Rating'] = df2['Rating'].astype(int)"
   ]
  },
  {
   "cell_type": "markdown",
   "metadata": {},
   "source": [
    "### llenar columnas vacias\n",
    "\n",
    "Si nos fijamos en el mensaje de error nos comenta que no puede convertir a int los espacios vacios, por lo que para eso lo podemos llenar con 0"
   ]
  },
  {
   "cell_type": "code",
   "execution_count": 58,
   "metadata": {},
   "outputs": [
    {
     "name": "stdout",
     "output_type": "stream",
     "text": [
      "0        4\n",
      "1        3\n",
      "2        4\n",
      "3        4\n",
      "4        4\n",
      "        ..\n",
      "10836    4\n",
      "10837    5\n",
      "10838    0\n",
      "10839    4\n",
      "10840    4\n",
      "Name: Rating, Length: 10841, dtype: int32\n"
     ]
    }
   ],
   "source": [
    "df2 = df.copy()\n",
    "df2.fillna({'Rating': 0}, inplace=True)\n",
    "df2['Rating'] = df2['Rating'].astype(int)\n",
    "print(df2['Rating'])"
   ]
  },
  {
   "cell_type": "markdown",
   "metadata": {},
   "source": [
    "### tratamiento de fechas\n",
    "\n",
    "Para tratar las fechas las convertiremos a datatime y poder realizar operaciones y busquedas mediante fechas"
   ]
  },
  {
   "cell_type": "code",
   "execution_count": 50,
   "metadata": {},
   "outputs": [
    {
     "name": "stdout",
     "output_type": "stream",
     "text": [
      "0         January 7, 2018\n",
      "1        January 15, 2018\n",
      "2          August 1, 2018\n",
      "3            June 8, 2018\n",
      "4           June 20, 2018\n",
      "               ...       \n",
      "10836       July 25, 2017\n",
      "10837        July 6, 2018\n",
      "10838    January 20, 2017\n",
      "10839    January 19, 2015\n",
      "10840       July 25, 2018\n",
      "Name: Last Updated, Length: 10841, dtype: object\n"
     ]
    },
    {
     "ename": "ValueError",
     "evalue": "time data \"1.0.19\" doesn't match format \"%B %d, %Y\", at position 1348. You might want to try:\n    - passing `format` if your strings have a consistent format;\n    - passing `format='ISO8601'` if your strings are all ISO8601 but not necessarily in exactly the same format;\n    - passing `format='mixed'`, and the format will be inferred for each element individually. You might want to use `dayfirst` alongside this.",
     "output_type": "error",
     "traceback": [
      "\u001b[1;31m---------------------------------------------------------------------------\u001b[0m",
      "\u001b[1;31mValueError\u001b[0m                                Traceback (most recent call last)",
      "Cell \u001b[1;32mIn[50], line 2\u001b[0m\n\u001b[0;32m      1\u001b[0m \u001b[38;5;28mprint\u001b[39m(df2[\u001b[38;5;124m'\u001b[39m\u001b[38;5;124mLast Updated\u001b[39m\u001b[38;5;124m'\u001b[39m])\n\u001b[1;32m----> 2\u001b[0m df2[\u001b[38;5;124m'\u001b[39m\u001b[38;5;124mfechas\u001b[39m\u001b[38;5;124m'\u001b[39m] \u001b[38;5;241m=\u001b[39m \u001b[43mpd\u001b[49m\u001b[38;5;241;43m.\u001b[39;49m\u001b[43mto_datetime\u001b[49m\u001b[43m(\u001b[49m\u001b[43mdf2\u001b[49m\u001b[43m[\u001b[49m\u001b[38;5;124;43m'\u001b[39;49m\u001b[38;5;124;43mLast Updated\u001b[39;49m\u001b[38;5;124;43m'\u001b[39;49m\u001b[43m]\u001b[49m\u001b[43m,\u001b[49m\u001b[38;5;28;43mformat\u001b[39;49m\u001b[38;5;241;43m=\u001b[39;49m\u001b[38;5;124;43m'\u001b[39;49m\u001b[38;5;124;43m%\u001b[39;49m\u001b[38;5;124;43mB \u001b[39;49m\u001b[38;5;132;43;01m%d\u001b[39;49;00m\u001b[38;5;124;43m, \u001b[39;49m\u001b[38;5;124;43m%\u001b[39;49m\u001b[38;5;124;43mY\u001b[39;49m\u001b[38;5;124;43m'\u001b[39;49m\u001b[43m)\u001b[49m\n\u001b[0;32m      3\u001b[0m \u001b[38;5;28mprint\u001b[39m(df2[\u001b[38;5;124m'\u001b[39m\u001b[38;5;124mfechas\u001b[39m\u001b[38;5;124m'\u001b[39m])\n",
      "File \u001b[1;32mc:\\Users\\lara_\\AppData\\Local\\Programs\\Python\\Python312\\Lib\\site-packages\\pandas\\core\\tools\\datetimes.py:1063\u001b[0m, in \u001b[0;36mto_datetime\u001b[1;34m(arg, errors, dayfirst, yearfirst, utc, format, exact, unit, infer_datetime_format, origin, cache)\u001b[0m\n\u001b[0;32m   1061\u001b[0m             result \u001b[38;5;241m=\u001b[39m arg\u001b[38;5;241m.\u001b[39mtz_localize(\u001b[38;5;124m\"\u001b[39m\u001b[38;5;124mutc\u001b[39m\u001b[38;5;124m\"\u001b[39m)\n\u001b[0;32m   1062\u001b[0m \u001b[38;5;28;01melif\u001b[39;00m \u001b[38;5;28misinstance\u001b[39m(arg, ABCSeries):\n\u001b[1;32m-> 1063\u001b[0m     cache_array \u001b[38;5;241m=\u001b[39m \u001b[43m_maybe_cache\u001b[49m\u001b[43m(\u001b[49m\u001b[43marg\u001b[49m\u001b[43m,\u001b[49m\u001b[43m \u001b[49m\u001b[38;5;28;43mformat\u001b[39;49m\u001b[43m,\u001b[49m\u001b[43m \u001b[49m\u001b[43mcache\u001b[49m\u001b[43m,\u001b[49m\u001b[43m \u001b[49m\u001b[43mconvert_listlike\u001b[49m\u001b[43m)\u001b[49m\n\u001b[0;32m   1064\u001b[0m     \u001b[38;5;28;01mif\u001b[39;00m \u001b[38;5;129;01mnot\u001b[39;00m cache_array\u001b[38;5;241m.\u001b[39mempty:\n\u001b[0;32m   1065\u001b[0m         result \u001b[38;5;241m=\u001b[39m arg\u001b[38;5;241m.\u001b[39mmap(cache_array)\n",
      "File \u001b[1;32mc:\\Users\\lara_\\AppData\\Local\\Programs\\Python\\Python312\\Lib\\site-packages\\pandas\\core\\tools\\datetimes.py:247\u001b[0m, in \u001b[0;36m_maybe_cache\u001b[1;34m(arg, format, cache, convert_listlike)\u001b[0m\n\u001b[0;32m    245\u001b[0m unique_dates \u001b[38;5;241m=\u001b[39m unique(arg)\n\u001b[0;32m    246\u001b[0m \u001b[38;5;28;01mif\u001b[39;00m \u001b[38;5;28mlen\u001b[39m(unique_dates) \u001b[38;5;241m<\u001b[39m \u001b[38;5;28mlen\u001b[39m(arg):\n\u001b[1;32m--> 247\u001b[0m     cache_dates \u001b[38;5;241m=\u001b[39m \u001b[43mconvert_listlike\u001b[49m\u001b[43m(\u001b[49m\u001b[43munique_dates\u001b[49m\u001b[43m,\u001b[49m\u001b[43m \u001b[49m\u001b[38;5;28;43mformat\u001b[39;49m\u001b[43m)\u001b[49m\n\u001b[0;32m    248\u001b[0m     \u001b[38;5;66;03m# GH#45319\u001b[39;00m\n\u001b[0;32m    249\u001b[0m     \u001b[38;5;28;01mtry\u001b[39;00m:\n",
      "File \u001b[1;32mc:\\Users\\lara_\\AppData\\Local\\Programs\\Python\\Python312\\Lib\\site-packages\\pandas\\core\\tools\\datetimes.py:433\u001b[0m, in \u001b[0;36m_convert_listlike_datetimes\u001b[1;34m(arg, format, name, utc, unit, errors, dayfirst, yearfirst, exact)\u001b[0m\n\u001b[0;32m    431\u001b[0m \u001b[38;5;66;03m# `format` could be inferred, or user didn't ask for mixed-format parsing.\u001b[39;00m\n\u001b[0;32m    432\u001b[0m \u001b[38;5;28;01mif\u001b[39;00m \u001b[38;5;28mformat\u001b[39m \u001b[38;5;129;01mis\u001b[39;00m \u001b[38;5;129;01mnot\u001b[39;00m \u001b[38;5;28;01mNone\u001b[39;00m \u001b[38;5;129;01mand\u001b[39;00m \u001b[38;5;28mformat\u001b[39m \u001b[38;5;241m!=\u001b[39m \u001b[38;5;124m\"\u001b[39m\u001b[38;5;124mmixed\u001b[39m\u001b[38;5;124m\"\u001b[39m:\n\u001b[1;32m--> 433\u001b[0m     \u001b[38;5;28;01mreturn\u001b[39;00m \u001b[43m_array_strptime_with_fallback\u001b[49m\u001b[43m(\u001b[49m\u001b[43marg\u001b[49m\u001b[43m,\u001b[49m\u001b[43m \u001b[49m\u001b[43mname\u001b[49m\u001b[43m,\u001b[49m\u001b[43m \u001b[49m\u001b[43mutc\u001b[49m\u001b[43m,\u001b[49m\u001b[43m \u001b[49m\u001b[38;5;28;43mformat\u001b[39;49m\u001b[43m,\u001b[49m\u001b[43m \u001b[49m\u001b[43mexact\u001b[49m\u001b[43m,\u001b[49m\u001b[43m \u001b[49m\u001b[43merrors\u001b[49m\u001b[43m)\u001b[49m\n\u001b[0;32m    435\u001b[0m result, tz_parsed \u001b[38;5;241m=\u001b[39m objects_to_datetime64(\n\u001b[0;32m    436\u001b[0m     arg,\n\u001b[0;32m    437\u001b[0m     dayfirst\u001b[38;5;241m=\u001b[39mdayfirst,\n\u001b[1;32m   (...)\u001b[0m\n\u001b[0;32m    441\u001b[0m     allow_object\u001b[38;5;241m=\u001b[39m\u001b[38;5;28;01mTrue\u001b[39;00m,\n\u001b[0;32m    442\u001b[0m )\n\u001b[0;32m    444\u001b[0m \u001b[38;5;28;01mif\u001b[39;00m tz_parsed \u001b[38;5;129;01mis\u001b[39;00m \u001b[38;5;129;01mnot\u001b[39;00m \u001b[38;5;28;01mNone\u001b[39;00m:\n\u001b[0;32m    445\u001b[0m     \u001b[38;5;66;03m# We can take a shortcut since the datetime64 numpy array\u001b[39;00m\n\u001b[0;32m    446\u001b[0m     \u001b[38;5;66;03m# is in UTC\u001b[39;00m\n",
      "File \u001b[1;32mc:\\Users\\lara_\\AppData\\Local\\Programs\\Python\\Python312\\Lib\\site-packages\\pandas\\core\\tools\\datetimes.py:467\u001b[0m, in \u001b[0;36m_array_strptime_with_fallback\u001b[1;34m(arg, name, utc, fmt, exact, errors)\u001b[0m\n\u001b[0;32m    456\u001b[0m \u001b[38;5;28;01mdef\u001b[39;00m \u001b[38;5;21m_array_strptime_with_fallback\u001b[39m(\n\u001b[0;32m    457\u001b[0m     arg,\n\u001b[0;32m    458\u001b[0m     name,\n\u001b[1;32m   (...)\u001b[0m\n\u001b[0;32m    462\u001b[0m     errors: \u001b[38;5;28mstr\u001b[39m,\n\u001b[0;32m    463\u001b[0m ) \u001b[38;5;241m-\u001b[39m\u001b[38;5;241m>\u001b[39m Index:\n\u001b[0;32m    464\u001b[0m \u001b[38;5;250m    \u001b[39m\u001b[38;5;124;03m\"\"\"\u001b[39;00m\n\u001b[0;32m    465\u001b[0m \u001b[38;5;124;03m    Call array_strptime, with fallback behavior depending on 'errors'.\u001b[39;00m\n\u001b[0;32m    466\u001b[0m \u001b[38;5;124;03m    \"\"\"\u001b[39;00m\n\u001b[1;32m--> 467\u001b[0m     result, tz_out \u001b[38;5;241m=\u001b[39m \u001b[43marray_strptime\u001b[49m\u001b[43m(\u001b[49m\u001b[43marg\u001b[49m\u001b[43m,\u001b[49m\u001b[43m \u001b[49m\u001b[43mfmt\u001b[49m\u001b[43m,\u001b[49m\u001b[43m \u001b[49m\u001b[43mexact\u001b[49m\u001b[38;5;241;43m=\u001b[39;49m\u001b[43mexact\u001b[49m\u001b[43m,\u001b[49m\u001b[43m \u001b[49m\u001b[43merrors\u001b[49m\u001b[38;5;241;43m=\u001b[39;49m\u001b[43merrors\u001b[49m\u001b[43m,\u001b[49m\u001b[43m \u001b[49m\u001b[43mutc\u001b[49m\u001b[38;5;241;43m=\u001b[39;49m\u001b[43mutc\u001b[49m\u001b[43m)\u001b[49m\n\u001b[0;32m    468\u001b[0m     \u001b[38;5;28;01mif\u001b[39;00m tz_out \u001b[38;5;129;01mis\u001b[39;00m \u001b[38;5;129;01mnot\u001b[39;00m \u001b[38;5;28;01mNone\u001b[39;00m:\n\u001b[0;32m    469\u001b[0m         unit \u001b[38;5;241m=\u001b[39m np\u001b[38;5;241m.\u001b[39mdatetime_data(result\u001b[38;5;241m.\u001b[39mdtype)[\u001b[38;5;241m0\u001b[39m]\n",
      "File \u001b[1;32mstrptime.pyx:501\u001b[0m, in \u001b[0;36mpandas._libs.tslibs.strptime.array_strptime\u001b[1;34m()\u001b[0m\n",
      "File \u001b[1;32mstrptime.pyx:451\u001b[0m, in \u001b[0;36mpandas._libs.tslibs.strptime.array_strptime\u001b[1;34m()\u001b[0m\n",
      "File \u001b[1;32mstrptime.pyx:583\u001b[0m, in \u001b[0;36mpandas._libs.tslibs.strptime._parse_with_format\u001b[1;34m()\u001b[0m\n",
      "\u001b[1;31mValueError\u001b[0m: time data \"1.0.19\" doesn't match format \"%B %d, %Y\", at position 1348. You might want to try:\n    - passing `format` if your strings have a consistent format;\n    - passing `format='ISO8601'` if your strings are all ISO8601 but not necessarily in exactly the same format;\n    - passing `format='mixed'`, and the format will be inferred for each element individually. You might want to use `dayfirst` alongside this."
     ]
    }
   ],
   "source": [
    "print(df2['Last Updated'])\n",
    "df2['fechas'] = pd.to_datetime(df2['Last Updated'],format='%B %d, %Y')\n",
    "print(df2['fechas'])"
   ]
  },
  {
   "cell_type": "markdown",
   "metadata": {},
   "source": [
    "Hay veces donde vienen de multiples formas, por ejemplo tenemos fechas asi:\n",
    "* January 7, 2018\n",
    "Y tambien asi:\n",
    "* 1.0.19\n",
    "\n",
    "Por lo que intentaremos convertir las primeras mediante un formato y las que no encuentro mediante otro formato, el parametro 'coerce' nos devuelve un na cuando no puede transformar esos formatos, por lo que podremos volver a intetarlo, con otro formato:"
   ]
  },
  {
   "cell_type": "code",
   "execution_count": 73,
   "metadata": {},
   "outputs": [
    {
     "name": "stdout",
     "output_type": "stream",
     "text": [
      "           Last Updated     fechas\n",
      "0       January 7, 2018 2018-01-07\n",
      "1      January 15, 2018 2018-01-15\n",
      "2        August 1, 2018 2018-08-01\n",
      "3          June 8, 2018 2018-06-08\n",
      "4         June 20, 2018 2018-06-20\n",
      "...                 ...        ...\n",
      "10836     July 25, 2017 2017-07-25\n",
      "10837      July 6, 2018 2018-07-06\n",
      "10838  January 20, 2017 2017-01-20\n",
      "10839  January 19, 2015 2015-01-19\n",
      "10840     July 25, 2018 2018-07-25\n",
      "\n",
      "[10841 rows x 2 columns]\n"
     ]
    }
   ],
   "source": [
    "df2 = df.copy()\n",
    "\n",
    "df2['fechas'] = pd.to_datetime(df2['Last Updated'], format=\"%B %d, %Y\", errors=\"coerce\")\n",
    "\n",
    "mask_na = df2['fechas'].isna()\n",
    "\n",
    "df2.loc[mask_na, 'fechas'] = pd.to_datetime(df2.loc[mask_na, 'Last Updated'], format=\"%d%m%Y\", errors=\"coerce\")\n",
    "\n",
    "print(df2[['Last Updated', 'fechas']])"
   ]
  },
  {
   "cell_type": "markdown",
   "metadata": {},
   "source": [
    "Finalmente te comparto una tabla para poder darle formato a las fechas:\n",
    "\n",
    "Directiva|Descripcion|Ejemplo\n",
    "-|-|-\n",
    "%a|Weekday, short version|Wed\t\n",
    "%A|Weekday, full version|Wednesday\t\n",
    "%w|Weekday as a number 0-6, 0 is Sunday|3\t\n",
    "%d|Day of month 01-31|31\t\n",
    "%b|Month name, short version|Dec\t\n",
    "%B|Month name, full version|December\t\n",
    "%m|Month as a number 01-12|12\t\n",
    "%y|Year, short version, without century|18\t\n",
    "%Y|Year, full version|2018\t\n",
    "%H|Hour 00-23|17\t\n",
    "%I|Hour 00-12|05\t\n",
    "%p|AM/PM|PM\t\n",
    "%M|Minute 00-59|41\t\n",
    "%S|Second 00-59|08\t\n",
    "%f|Microsecond 000000-999999|548513\t\n",
    "%z|UTC offset|+0100\t\n",
    "%Z|Timezone|CST\t\n",
    "%j|Day number of year 001-366|365\t\n",
    "%U|Week number of year, Sunday as the first day of week, 00-53|52\t\n",
    "%W|Week number of year, Monday as the first day of week, 00-53|52\t\n",
    "%c|Local version of date and time|Mon Dec 31 17:41:00 2018\t\n",
    "%C|Century|20\t\n",
    "%x|Local version of date|12/31/18\t\n",
    "%X|Local version of time|17:41:00\t\n",
    "%%|A % character|%\t\n",
    "%G|ISO 8601 year|2018\t\n",
    "%u|ISO 8601 weekday (1-7)|1\t\n",
    "%V|ISO 8601 weeknumber (01-53)|01"
   ]
  },
  {
   "cell_type": "markdown",
   "metadata": {},
   "source": [
    "## Formatos de agrupacion y operaciones\n",
    "\n",
    "### Agrupacion\n",
    "\n",
    "De una forma equivalente a como hacemos en SQL, podemos agregar las tablas y sacar resúmenes de los grupos. La operación en pandas se hace en dos fases:\n",
    "\n",
    "* El groupby: donde especificamos la o las columnas por las que agregar\n",
    "* La aplicación de la función de agregación sobre una o varias columnas"
   ]
  },
  {
   "cell_type": "code",
   "execution_count": 84,
   "metadata": {},
   "outputs": [
    {
     "data": {
      "text/html": [
       "<div>\n",
       "<style scoped>\n",
       "    .dataframe tbody tr th:only-of-type {\n",
       "        vertical-align: middle;\n",
       "    }\n",
       "\n",
       "    .dataframe tbody tr th {\n",
       "        vertical-align: top;\n",
       "    }\n",
       "\n",
       "    .dataframe thead th {\n",
       "        text-align: right;\n",
       "    }\n",
       "</style>\n",
       "<table border=\"1\" class=\"dataframe\">\n",
       "  <thead>\n",
       "    <tr style=\"text-align: right;\">\n",
       "      <th></th>\n",
       "      <th>Category</th>\n",
       "      <th>Genres</th>\n",
       "      <th>mean_ratings</th>\n",
       "      <th>sum_ratings</th>\n",
       "      <th>min_ratings</th>\n",
       "      <th>max_ratings</th>\n",
       "    </tr>\n",
       "  </thead>\n",
       "  <tbody>\n",
       "    <tr>\n",
       "      <th>0</th>\n",
       "      <td>1.9</td>\n",
       "      <td>February 11, 2018</td>\n",
       "      <td>19.000000</td>\n",
       "      <td>19.0</td>\n",
       "      <td>19.0</td>\n",
       "      <td>19.0</td>\n",
       "    </tr>\n",
       "    <tr>\n",
       "      <th>1</th>\n",
       "      <td>ART_AND_DESIGN</td>\n",
       "      <td>Art &amp; Design</td>\n",
       "      <td>4.358929</td>\n",
       "      <td>244.1</td>\n",
       "      <td>3.2</td>\n",
       "      <td>5.0</td>\n",
       "    </tr>\n",
       "    <tr>\n",
       "      <th>2</th>\n",
       "      <td>ART_AND_DESIGN</td>\n",
       "      <td>Art &amp; Design;Action &amp; Adventure</td>\n",
       "      <td>NaN</td>\n",
       "      <td>0.0</td>\n",
       "      <td>NaN</td>\n",
       "      <td>NaN</td>\n",
       "    </tr>\n",
       "    <tr>\n",
       "      <th>3</th>\n",
       "      <td>ART_AND_DESIGN</td>\n",
       "      <td>Art &amp; Design;Creativity</td>\n",
       "      <td>4.440000</td>\n",
       "      <td>22.2</td>\n",
       "      <td>3.8</td>\n",
       "      <td>4.7</td>\n",
       "    </tr>\n",
       "    <tr>\n",
       "      <th>4</th>\n",
       "      <td>ART_AND_DESIGN</td>\n",
       "      <td>Art &amp; Design;Pretend Play</td>\n",
       "      <td>3.900000</td>\n",
       "      <td>3.9</td>\n",
       "      <td>3.9</td>\n",
       "      <td>3.9</td>\n",
       "    </tr>\n",
       "    <tr>\n",
       "      <th>...</th>\n",
       "      <td>...</td>\n",
       "      <td>...</td>\n",
       "      <td>...</td>\n",
       "      <td>...</td>\n",
       "      <td>...</td>\n",
       "      <td>...</td>\n",
       "    </tr>\n",
       "    <tr>\n",
       "      <th>145</th>\n",
       "      <td>TRAVEL_AND_LOCAL</td>\n",
       "      <td>Travel &amp; Local;Action &amp; Adventure</td>\n",
       "      <td>4.100000</td>\n",
       "      <td>4.1</td>\n",
       "      <td>4.1</td>\n",
       "      <td>4.1</td>\n",
       "    </tr>\n",
       "    <tr>\n",
       "      <th>146</th>\n",
       "      <td>VIDEO_PLAYERS</td>\n",
       "      <td>Video Players &amp; Editors</td>\n",
       "      <td>4.063924</td>\n",
       "      <td>642.1</td>\n",
       "      <td>1.8</td>\n",
       "      <td>4.9</td>\n",
       "    </tr>\n",
       "    <tr>\n",
       "      <th>147</th>\n",
       "      <td>VIDEO_PLAYERS</td>\n",
       "      <td>Video Players &amp; Editors;Creativity</td>\n",
       "      <td>4.100000</td>\n",
       "      <td>4.1</td>\n",
       "      <td>4.1</td>\n",
       "      <td>4.1</td>\n",
       "    </tr>\n",
       "    <tr>\n",
       "      <th>148</th>\n",
       "      <td>VIDEO_PLAYERS</td>\n",
       "      <td>Video Players &amp; Editors;Music &amp; Video</td>\n",
       "      <td>4.000000</td>\n",
       "      <td>4.0</td>\n",
       "      <td>4.0</td>\n",
       "      <td>4.0</td>\n",
       "    </tr>\n",
       "    <tr>\n",
       "      <th>149</th>\n",
       "      <td>WEATHER</td>\n",
       "      <td>Weather</td>\n",
       "      <td>4.244000</td>\n",
       "      <td>318.3</td>\n",
       "      <td>3.3</td>\n",
       "      <td>4.8</td>\n",
       "    </tr>\n",
       "  </tbody>\n",
       "</table>\n",
       "<p>150 rows × 6 columns</p>\n",
       "</div>"
      ],
      "text/plain": [
       "             Category                                 Genres  mean_ratings  \\\n",
       "0                 1.9                      February 11, 2018     19.000000   \n",
       "1      ART_AND_DESIGN                           Art & Design      4.358929   \n",
       "2      ART_AND_DESIGN        Art & Design;Action & Adventure           NaN   \n",
       "3      ART_AND_DESIGN                Art & Design;Creativity      4.440000   \n",
       "4      ART_AND_DESIGN              Art & Design;Pretend Play      3.900000   \n",
       "..                ...                                    ...           ...   \n",
       "145  TRAVEL_AND_LOCAL      Travel & Local;Action & Adventure      4.100000   \n",
       "146     VIDEO_PLAYERS                Video Players & Editors      4.063924   \n",
       "147     VIDEO_PLAYERS     Video Players & Editors;Creativity      4.100000   \n",
       "148     VIDEO_PLAYERS  Video Players & Editors;Music & Video      4.000000   \n",
       "149           WEATHER                                Weather      4.244000   \n",
       "\n",
       "     sum_ratings  min_ratings  max_ratings  \n",
       "0           19.0         19.0         19.0  \n",
       "1          244.1          3.2          5.0  \n",
       "2            0.0          NaN          NaN  \n",
       "3           22.2          3.8          4.7  \n",
       "4            3.9          3.9          3.9  \n",
       "..           ...          ...          ...  \n",
       "145          4.1          4.1          4.1  \n",
       "146        642.1          1.8          4.9  \n",
       "147          4.1          4.1          4.1  \n",
       "148          4.0          4.0          4.0  \n",
       "149        318.3          3.3          4.8  \n",
       "\n",
       "[150 rows x 6 columns]"
      ]
     },
     "execution_count": 84,
     "metadata": {},
     "output_type": "execute_result"
    }
   ],
   "source": [
    "df.groupby(['Category'])['Rating'].max()\n",
    "\n",
    "#Para aplicar diferentes resúmenes sobre diferentes columnas\n",
    "df.groupby(['Category','Genres']).agg(\n",
    "    mean_ratings=('Rating','mean'),\n",
    "    sum_ratings=('Rating','sum'),\n",
    "    min_ratings=('Rating','min'),\n",
    "    max_ratings=('Rating','max')\n",
    ").reset_index()"
   ]
  }
 ],
 "metadata": {
  "kernelspec": {
   "display_name": "Python 3",
   "language": "python",
   "name": "python3"
  },
  "language_info": {
   "codemirror_mode": {
    "name": "ipython",
    "version": 3
   },
   "file_extension": ".py",
   "mimetype": "text/x-python",
   "name": "python",
   "nbconvert_exporter": "python",
   "pygments_lexer": "ipython3",
   "version": "3.12.6"
  }
 },
 "nbformat": 4,
 "nbformat_minor": 2
}
